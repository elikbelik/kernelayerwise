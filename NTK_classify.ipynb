{
 "cells": [
  {
   "cell_type": "markdown",
   "metadata": {},
   "source": [
    "# Learning Using NTK - v2.0"
   ]
  },
  {
   "cell_type": "code",
   "execution_count": 1,
   "metadata": {},
   "outputs": [],
   "source": [
    "#Autocomplete\n",
    "%config Completer.use_jedi = False"
   ]
  },
  {
   "cell_type": "code",
   "execution_count": 2,
   "metadata": {},
   "outputs": [
    {
     "name": "stdout",
     "output_type": "stream",
     "text": [
      "Wall time: 0 ns\n"
     ]
    }
   ],
   "source": [
    "%matplotlib inline\n",
    "%time\n",
    "\n",
    "import numpy as np\n",
    "import matplotlib.pyplot as plt\n",
    "import os, time, glob\n",
    "from tqdm.notebook import tqdm\n",
    "from sklearn import svm\n",
    "from scipy import signal"
   ]
  },
  {
   "cell_type": "markdown",
   "metadata": {},
   "source": [
    "## Fully Connected"
   ]
  },
  {
   "cell_type": "markdown",
   "metadata": {},
   "source": [
    "Here we do not assume the width to go to infinty. Instead we fix $H_0$ using its parameters, and learning a convex optimization problem."
   ]
  },
  {
   "cell_type": "markdown",
   "metadata": {},
   "source": [
    "More specifically, let $g(x)= \\frac{df(x;\\theta)}{d\\theta}$, then let's learn a linear separator (using SVM) on $g(x)$."
   ]
  },
  {
   "cell_type": "markdown",
   "metadata": {},
   "source": [
    "Here we will assume a three-layer fully-connected network:\n",
    "$$ f(x) = sign(u^T \\sigma (V \\sigma (Wx)))$$\n",
    "and compute $g$ for each layer separately."
   ]
  },
  {
   "cell_type": "markdown",
   "metadata": {},
   "source": [
    "In three layers we have:\n",
    "$$ \\frac{df}{dW} = u^T diag(\\dot\\sigma(V\\sigma(Wx))) V diag(\\dot\\sigma(Wx))\\cdot(I_d \\otimes x)$$\n",
    "$$ \\frac{df}{dV} = u^T diag(\\dot\\sigma(V\\sigma(Wx)))\\cdot(I_d\\otimes \\sigma(Wx))$$\n",
    "$$ \\frac{df}{du} = \\sigma(V\\sigma(Wx))$$"
   ]
  },
  {
   "cell_type": "markdown",
   "metadata": {},
   "source": [
    "### Experiments"
   ]
  },
  {
   "cell_type": "code",
   "execution_count": 3,
   "metadata": {},
   "outputs": [],
   "source": [
    "relu = lambda A: np.maximum(A, 0)\n",
    "drelu = lambda A: (A > 0).astype(np.float)\n",
    "sgn = lambda A: (A > 0).astype(np.float)*2 - 1"
   ]
  },
  {
   "cell_type": "code",
   "execution_count": 4,
   "metadata": {},
   "outputs": [],
   "source": [
    "def calc_zero_one_error (y_est, y):\n",
    "    return (y_est != y).mean()"
   ]
  },
  {
   "cell_type": "code",
   "execution_count": 5,
   "metadata": {},
   "outputs": [],
   "source": [
    "def calc_zero_one_network_error (X, y, u, V, W):\n",
    "    y_est = sgn(u.T @ relu(V @ relu(W @ X))).T\n",
    "    return calc_zero_one_error(y_est, y)"
   ]
  },
  {
   "cell_type": "code",
   "execution_count": 6,
   "metadata": {},
   "outputs": [],
   "source": [
    "d = 25\n",
    "m = 100\n",
    "m_test = 100000\n",
    "\n",
    "# ground truth\n",
    "np.random.seed(124)\n",
    "X = np.random.randn(d, m)\n",
    "X_test = np.random.randn(d, m_test)\n",
    "W_real = np.random.randn(d, d) / np.sqrt(d)\n",
    "V_real = np.random.randn(d, d) / np.sqrt(d)\n",
    "u_real = np.random.randn(d, 1) / np.sqrt(d)\n",
    "y = sgn(u_real.T @ relu(V_real @ relu(W_real @ X))).T\n",
    "y_test = sgn(u_real.T @ relu(V_real @ relu(W_real @ X_test))).T"
   ]
  },
  {
   "cell_type": "code",
   "execution_count": 7,
   "metadata": {},
   "outputs": [],
   "source": [
    "def map_to_df_dW(X, u, V, W):\n",
    "    m = X.shape[1]\n",
    "    out = np.zeros((W.size, m))\n",
    "    for s in range(m):\n",
    "        x = X[:,s]\n",
    "        a = drelu(V @ relu(W @ x))\n",
    "        b = drelu(W @ x)\n",
    "        c = np.tensordot(a,b,axes=0) * V\n",
    "        d = np.squeeze(u.T @ c)\n",
    "        res = np.ndarray.flatten(np.tensordot(d,x,axes=0))\n",
    "        \n",
    "        out[:, s] = res\n",
    "    return out"
   ]
  },
  {
   "cell_type": "code",
   "execution_count": 8,
   "metadata": {},
   "outputs": [],
   "source": [
    "def map_to_df_dV(X, u, V, W):\n",
    "    m = X.shape[1]\n",
    "    out = np.zeros((W.size, m))\n",
    "    for s in range(m):\n",
    "        x = X[:,s]\n",
    "        a = drelu(V @ relu(W @ x))\n",
    "        b = relu(W @ x)\n",
    "        c = np.squeeze(u) * np.squeeze(a)\n",
    "        d = np.tensordot(c,b,axes=0)\n",
    "        res = np.ndarray.flatten(d)\n",
    "        \n",
    "        out[:, s] = res\n",
    "    return out"
   ]
  },
  {
   "cell_type": "code",
   "execution_count": 9,
   "metadata": {},
   "outputs": [],
   "source": [
    "def map_to_df_du(X, u, V, W):\n",
    "    return relu(V @ relu(W @ X))"
   ]
  },
  {
   "cell_type": "code",
   "execution_count": 10,
   "metadata": {},
   "outputs": [],
   "source": [
    "# Learn W\n",
    "np.random.seed(0)\n",
    "W_0 = np.random.randn(d, d) / np.sqrt(d)\n",
    "V_0 = np.random.randn(d, d) / np.sqrt(d)\n",
    "u_0 = np.random.randn(d, 1) / np.sqrt(d)\n",
    "X_g = map_to_df_dW(X, u_0, V_0, W_0)\n",
    "X_test_g = map_to_df_dW(X_test, u_0, V_0, W_0)"
   ]
  },
  {
   "cell_type": "code",
   "execution_count": 11,
   "metadata": {},
   "outputs": [
    {
     "name": "stdout",
     "output_type": "stream",
     "text": [
      "Wall time: 1.31 s\n"
     ]
    },
    {
     "data": {
      "text/plain": [
       "(0.0, 0.31055)"
      ]
     },
     "execution_count": 11,
     "metadata": {},
     "output_type": "execute_result"
    }
   ],
   "source": [
    "%%time\n",
    "\n",
    "clfW = svm.SVC(kernel='linear', C = 1.0)\n",
    "clfW.fit(X_g.T, np.squeeze(y))\n",
    "\n",
    "train_err = calc_zero_one_error(clfW.predict(X_g.T), np.squeeze(y))\n",
    "test_err = calc_zero_one_error(clfW.predict(X_test_g.T), np.squeeze(y_test))\n",
    "train_err, test_err"
   ]
  },
  {
   "cell_type": "code",
   "execution_count": 12,
   "metadata": {},
   "outputs": [
    {
     "data": {
      "text/plain": [
       "[[0.47, 0.57134],\n",
       " [0.34, 0.44753],\n",
       " [0.69, 0.67522],\n",
       " [0.62, 0.6172],\n",
       " [0.45, 0.52883]]"
      ]
     },
     "execution_count": 12,
     "metadata": {},
     "output_type": "execute_result"
    }
   ],
   "source": [
    "# Check which error to use\n",
    "get_err = lambda W: [calc_zero_one_network_error(X, y, u_0, V_0, W), calc_zero_one_network_error(X_test, y_test, u_0, V_0, W)]\n",
    "W_clf = np.reshape(clfW.coef_,[25,25])\n",
    "[get_err(W_0), get_err(W_clf), get_err(-W_clf), get_err(W_0 * W_clf), get_err(- W_0 * W_clf)]"
   ]
  },
  {
   "cell_type": "markdown",
   "metadata": {},
   "source": [
    "It seems that the parameters I should use for the new W is hyperplane learned by the SVM."
   ]
  },
  {
   "cell_type": "code",
   "execution_count": 13,
   "metadata": {},
   "outputs": [
    {
     "name": "stdout",
     "output_type": "stream",
     "text": [
      "Wall time: 4.54 s\n"
     ]
    },
    {
     "data": {
      "text/plain": [
       "(0.01, 0.3046)"
      ]
     },
     "execution_count": 13,
     "metadata": {},
     "output_type": "execute_result"
    }
   ],
   "source": [
    "%%time\n",
    "\n",
    "# Learn V\n",
    "np.random.seed(1)\n",
    "V_0 = np.random.randn(d, d) / np.sqrt(d)\n",
    "u_0 = np.random.randn(d, 1) / np.sqrt(d)\n",
    "X_g = map_to_df_dV(X, u_0, V_0, W_clf)\n",
    "X_test_g = map_to_df_dV(X_test, u_0, V_0, W_clf)\n",
    "\n",
    "clfV = svm.SVC(kernel='linear', C = 1.0)\n",
    "clfV.fit(X_g.T, np.squeeze(y))\n",
    "\n",
    "train_err = calc_zero_one_error(clfV.predict(X_g.T), np.squeeze(y))\n",
    "test_err = calc_zero_one_error(clfV.predict(X_test_g.T), np.squeeze(y_test))\n",
    "train_err, test_err"
   ]
  },
  {
   "cell_type": "code",
   "execution_count": 14,
   "metadata": {},
   "outputs": [
    {
     "data": {
      "text/plain": [
       "[[0.39, 0.43147],\n",
       " [0.32, 0.41944],\n",
       " [0.63, 0.52795],\n",
       " [0.28, 0.35861],\n",
       " [0.65, 0.5797]]"
      ]
     },
     "execution_count": 14,
     "metadata": {},
     "output_type": "execute_result"
    }
   ],
   "source": [
    "# Check which error to use\n",
    "get_err = lambda V: [calc_zero_one_network_error(X, y, u_0, V, W_clf), calc_zero_one_network_error(X_test, y_test, u_0, V, W_clf)]\n",
    "V_clf = np.reshape(clfV.coef_,[25,25])\n",
    "[get_err(V_0), get_err(V_clf), get_err(-V_clf), get_err(V_0 * V_clf), get_err(- V_0 * V_clf)]"
   ]
  },
  {
   "cell_type": "code",
   "execution_count": 15,
   "metadata": {},
   "outputs": [
    {
     "name": "stdout",
     "output_type": "stream",
     "text": [
      "Wall time: 191 ms\n"
     ]
    },
    {
     "data": {
      "text/plain": [
       "(0.1, 0.30021)"
      ]
     },
     "execution_count": 15,
     "metadata": {},
     "output_type": "execute_result"
    }
   ],
   "source": [
    "%%time\n",
    "\n",
    "# Learn u\n",
    "np.random.seed(2)\n",
    "u_0 = np.random.randn(d, 1) / np.sqrt(d)\n",
    "X_g = map_to_df_du(X, u_0, V_clf, W_clf)\n",
    "X_test_g = map_to_df_du(X_test, u_0, V_clf, W_clf)\n",
    "\n",
    "clfu = svm.SVC(kernel='linear', C = 1.0)\n",
    "clfu.fit(X_g.T, np.squeeze(y))\n",
    "\n",
    "train_err = calc_zero_one_error(clfu.predict(X_g.T), np.squeeze(y))\n",
    "test_err = calc_zero_one_error(clfu.predict(X_test_g.T), np.squeeze(y_test))\n",
    "train_err, test_err"
   ]
  },
  {
   "cell_type": "code",
   "execution_count": 16,
   "metadata": {},
   "outputs": [
    {
     "data": {
      "text/plain": [
       "[[0.51, 0.44247],\n",
       " [0.24, 0.36317],\n",
       " [0.76, 0.63683],\n",
       " [0.28, 0.36707],\n",
       " [0.72, 0.63293]]"
      ]
     },
     "execution_count": 16,
     "metadata": {},
     "output_type": "execute_result"
    }
   ],
   "source": [
    "# Check which error to use\n",
    "get_err = lambda u: [calc_zero_one_network_error(X, y, u, V_clf, W_clf), calc_zero_one_network_error(X_test, y_test, u, V_clf, W_clf)]\n",
    "u_clf = np.reshape(clfu.coef_,[25,1])\n",
    "[get_err(u_0), get_err(u_clf), get_err(-u_clf), get_err(u_0 * u_clf), get_err(- u_0 * u_clf)]"
   ]
  },
  {
   "cell_type": "markdown",
   "metadata": {},
   "source": [
    "## Learning with the Loss"
   ]
  },
  {
   "cell_type": "markdown",
   "metadata": {},
   "source": [
    "Maybe we should not use $g(x)= \\frac{df(x;\\theta)}{d\\theta}$,\n",
    "but rather\n",
    "$$g(x)=-\\frac{d\\ell}{d\\theta} = -\\frac{d\\ell}{df(x;\\theta)} \\cdot \\frac{df(x;\\theta)}{d\\theta}.$$\n",
    "\n",
    "Let's try this."
   ]
  },
  {
   "cell_type": "markdown",
   "metadata": {},
   "source": [
    "We will assume that $y\\in\\{0,1\\}$, hence use the cross entropy loss:\n",
    "$$ \\ell(f, (x,y))=-y \\log f(x) -(1-y)\\log(1-f(x))$$\n",
    "$$ \\frac{d\\ell}{df} = -\\frac{y}{f(x)} + \\frac{1-y}{1-f(x)}. $$"
   ]
  },
  {
   "cell_type": "markdown",
   "metadata": {},
   "source": [
    "Instead of sign, I will use softmax:\n",
    "$$ softmax(f, x) = \\frac{1}{1+\\exp( -f(x))} $$\n",
    "$$ \\frac{d softmax}{df} = softmax(f)(1-softmax(f))$$"
   ]
  },
  {
   "cell_type": "markdown",
   "metadata": {},
   "source": [
    "### Experiments"
   ]
  },
  {
   "cell_type": "code",
   "execution_count": 17,
   "metadata": {},
   "outputs": [],
   "source": [
    "def calc_crossentropy_error (y_est, y):\n",
    "    y = y.copy()\n",
    "    y[y==-1] = 0\n",
    "    return (-y * np.log(y_est) - (1-y) * np.log(1-y_est)).mean()"
   ]
  },
  {
   "cell_type": "code",
   "execution_count": 18,
   "metadata": {},
   "outputs": [],
   "source": [
    "def calc_crossentropy_network_error (X, y, u, V, W):\n",
    "    y_est = calc_softmax_network (X, u, V, W)\n",
    "    return calc_crossentropy_error(y_est, y)"
   ]
  },
  {
   "cell_type": "code",
   "execution_count": 19,
   "metadata": {},
   "outputs": [],
   "source": [
    "def calc_gradient_crossentropy_network_error (X, y, u, V, W):\n",
    "    y_est = calc_softmax_network (X, u, V, W)\n",
    "    return np.squeeze(-y / y_est + (1-y)/(1-y_est))"
   ]
  },
  {
   "cell_type": "code",
   "execution_count": 20,
   "metadata": {},
   "outputs": [],
   "source": [
    "def calc_softmax (y):\n",
    "    return (1 + np.exp(-y))**(-1)"
   ]
  },
  {
   "cell_type": "code",
   "execution_count": 21,
   "metadata": {},
   "outputs": [],
   "source": [
    "def calc_softmax_network (X, u, V, W):\n",
    "    y_est = (u.T @ relu(V @ relu(W @ X))).T\n",
    "    return calc_softmax(y_est)"
   ]
  },
  {
   "cell_type": "code",
   "execution_count": 22,
   "metadata": {},
   "outputs": [],
   "source": [
    "def calc_gradient_softmax_network (X, u, V, W):\n",
    "    softmax = calc_softmax_network(X, u, V, W)\n",
    "    return np.squeeze(softmax * (1 - softmax))"
   ]
  },
  {
   "cell_type": "code",
   "execution_count": 30,
   "metadata": {},
   "outputs": [
    {
     "name": "stdout",
     "output_type": "stream",
     "text": [
      "Wall time: 7.48 s\n"
     ]
    },
    {
     "data": {
      "text/plain": [
       "(0.0, 0.22956)"
      ]
     },
     "execution_count": 30,
     "metadata": {},
     "output_type": "execute_result"
    }
   ],
   "source": [
    "%%time\n",
    "\n",
    "# Learn W\n",
    "np.random.seed(0)\n",
    "W_0 = np.random.randn(d, d) / np.sqrt(d)\n",
    "V_0 = np.random.randn(d, d) / np.sqrt(d)\n",
    "u_0 = np.random.randn(d, 1) / np.sqrt(d)\n",
    "X_g = -map_to_df_dW(X, u_0, V_0, W_0) * \\\n",
    "      calc_gradient_crossentropy_network_error(X, y, u_0, V_0, W_0) * \\\n",
    "      calc_gradient_softmax_network(X, u_0, V_0, W_0)\n",
    "X_test_g = -map_to_df_dW(X_test, u_0, V_0, W_0) * \\\n",
    "           calc_gradient_crossentropy_network_error(X_test, y_test, u_0, V_0, W_0) * \\\n",
    "           calc_gradient_softmax_network(X_test, u_0, V_0, W_0)\n",
    "\n",
    "clfW = svm.SVC(kernel='linear', C = 1.0)\n",
    "clfW.fit(X_g.T, np.squeeze(y))\n",
    "\n",
    "train_err = calc_zero_one_error(clfW.predict(X_g.T), np.squeeze(y))\n",
    "test_err = calc_zero_one_error(clfW.predict(X_test_g.T), np.squeeze(y_test))\n",
    "train_err, test_err"
   ]
  },
  {
   "cell_type": "code",
   "execution_count": 31,
   "metadata": {},
   "outputs": [
    {
     "data": {
      "text/plain": [
       "[[0.7735587873306053, 0.8269217247399877],\n",
       " [0.8265467137683745, 0.7898671859151777],\n",
       " [0.7638620509773334, 0.786877639451744],\n",
       " [0.6954339810124139, 0.7034974596662961],\n",
       " [0.7030669520691849, 0.7186746424740204]]"
      ]
     },
     "execution_count": 31,
     "metadata": {},
     "output_type": "execute_result"
    }
   ],
   "source": [
    "# Check which error to use\n",
    "get_err = lambda W: [calc_crossentropy_network_error(X, y, u_0, V_0, W), calc_crossentropy_network_error(X_test, y_test, u_0, V_0, W)]\n",
    "W_clf = np.reshape(clfW.coef_,[25,25])\n",
    "[get_err(W_0), get_err(W_clf), get_err(-W_clf), get_err(W_0 * W_clf), get_err(- W_0 * W_clf)]"
   ]
  },
  {
   "cell_type": "code",
   "execution_count": 32,
   "metadata": {},
   "outputs": [
    {
     "name": "stdout",
     "output_type": "stream",
     "text": [
      "Wall time: 4.96 s\n"
     ]
    },
    {
     "data": {
      "text/plain": [
       "(0.0, 0.01792)"
      ]
     },
     "execution_count": 32,
     "metadata": {},
     "output_type": "execute_result"
    }
   ],
   "source": [
    "%%time\n",
    "\n",
    "# Learn V\n",
    "np.random.seed(1)\n",
    "V_0 = np.random.randn(d, d) / np.sqrt(d)\n",
    "u_0 = np.random.randn(d, 1) / np.sqrt(d)\n",
    "X_g = -map_to_df_dV(X, u_0, V_0, W_clf) * \\\n",
    "      calc_gradient_crossentropy_network_error(X, y, u_0, V_0, W_clf) * \\\n",
    "      calc_gradient_softmax_network(X, u_0, V_0, W_0)\n",
    "X_test_g = -map_to_df_dV(X_test, u_0, V_0, W_clf) * \\\n",
    "      calc_gradient_crossentropy_network_error(X_test, y_test, u_0, V_0, W_clf) * \\\n",
    "      calc_gradient_softmax_network(X_test, u_0, V_0, W_0)\n",
    "\n",
    "clfV = svm.SVC(kernel='linear', C = 1.0)\n",
    "clfV.fit(X_g.T, np.squeeze(y))\n",
    "\n",
    "train_err = calc_zero_one_error(clfV.predict(X_g.T), np.squeeze(y))\n",
    "test_err = calc_zero_one_error(clfV.predict(X_test_g.T), np.squeeze(y_test))\n",
    "train_err, test_err"
   ]
  },
  {
   "cell_type": "code",
   "execution_count": 33,
   "metadata": {},
   "outputs": [
    {
     "data": {
      "text/plain": [
       "[[0.6856788292584675, 0.6931425368356187],\n",
       " [0.7818373022174729, 0.7729875979267471],\n",
       " [0.7716297092144465, 0.7353440492859961],\n",
       " [0.6961251651139589, 0.6965295774631061],\n",
       " [0.6861909905689507, 0.6871236333830937]]"
      ]
     },
     "execution_count": 33,
     "metadata": {},
     "output_type": "execute_result"
    }
   ],
   "source": [
    "# Check which error to use\n",
    "get_err = lambda V: [calc_crossentropy_network_error(X, y, u_0, V, W_clf), calc_crossentropy_network_error(X_test, y_test, u_0, V, W_clf)]\n",
    "V_clf = np.reshape(clfV.coef_,[25,25])\n",
    "[get_err(V_0), get_err(V_clf), get_err(-V_clf), get_err(V_0 * V_clf), get_err(- V_0 * V_clf)]"
   ]
  },
  {
   "cell_type": "code",
   "execution_count": 34,
   "metadata": {},
   "outputs": [
    {
     "name": "stdout",
     "output_type": "stream",
     "text": [
      "Wall time: 247 ms\n"
     ]
    },
    {
     "data": {
      "text/plain": [
       "(0.0, 0.00341)"
      ]
     },
     "execution_count": 34,
     "metadata": {},
     "output_type": "execute_result"
    }
   ],
   "source": [
    "%%time\n",
    "\n",
    "# Learn u\n",
    "np.random.seed(2)\n",
    "u_0 = np.random.randn(d, 1) / np.sqrt(d)\n",
    "X_g = -map_to_df_du(X, u_0, V_clf, W_clf) * \\\n",
    "      calc_gradient_crossentropy_network_error(X, y, u_0, V_clf, W_clf) * \\\n",
    "      calc_gradient_softmax_network(X, u_0, V_0, W_0)\n",
    "X_test_g = -map_to_df_du(X_test, u_0, V_clf, W_clf) * \\\n",
    "      calc_gradient_crossentropy_network_error(X_test, y_test, u_0, V_clf, W_clf) * \\\n",
    "      calc_gradient_softmax_network(X_test, u_0, V_0, W_0)\n",
    "\n",
    "clfu = svm.SVC(kernel='linear', C = 1.0)\n",
    "clfu.fit(X_g.T, np.squeeze(y))\n",
    "\n",
    "train_err = calc_zero_one_error(clfu.predict(X_g.T), np.squeeze(y))\n",
    "test_err = calc_zero_one_error(clfu.predict(X_test_g.T), np.squeeze(y_test))\n",
    "train_err, test_err"
   ]
  },
  {
   "cell_type": "code",
   "execution_count": 35,
   "metadata": {},
   "outputs": [
    {
     "data": {
      "text/plain": [
       "[[0.7033599215990398, 0.7031014294740716],\n",
       " [1.1398539000227343, 1.0767954791426393],\n",
       " [0.8833870837728033, 0.8169911536060205],\n",
       " [0.700110543274313, 0.6996878461035808],\n",
       " [0.6878400351976741, 0.6879091706266139]]"
      ]
     },
     "execution_count": 35,
     "metadata": {},
     "output_type": "execute_result"
    }
   ],
   "source": [
    "# Check which error to use\n",
    "get_err = lambda u: [calc_crossentropy_network_error(X, y, u, V_clf, W_clf), calc_crossentropy_network_error(X_test, y_test, u, V_clf, W_clf)]\n",
    "u_clf = np.reshape(clfu.coef_,[25,1])\n",
    "[get_err(u_0), get_err(u_clf), get_err(-u_clf), get_err(u_0 * u_clf), get_err(- u_0 * u_clf)]"
   ]
  },
  {
   "cell_type": "code",
   "execution_count": null,
   "metadata": {},
   "outputs": [],
   "source": []
  },
  {
   "cell_type": "code",
   "execution_count": null,
   "metadata": {},
   "outputs": [],
   "source": []
  }
 ],
 "metadata": {
  "kernelspec": {
   "display_name": "Python 3",
   "language": "python",
   "name": "python3"
  },
  "language_info": {
   "codemirror_mode": {
    "name": "ipython",
    "version": 3
   },
   "file_extension": ".py",
   "mimetype": "text/x-python",
   "name": "python",
   "nbconvert_exporter": "python",
   "pygments_lexer": "ipython3",
   "version": "3.8.6"
  }
 },
 "nbformat": 4,
 "nbformat_minor": 4
}
