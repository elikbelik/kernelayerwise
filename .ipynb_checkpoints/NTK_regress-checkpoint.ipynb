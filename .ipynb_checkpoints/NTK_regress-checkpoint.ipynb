{
 "cells": [
  {
   "cell_type": "markdown",
   "metadata": {},
   "source": [
    "# NTK"
   ]
  },
  {
   "cell_type": "code",
   "execution_count": 1,
   "metadata": {},
   "outputs": [],
   "source": [
    "#Autocomplete\n",
    "%config Completer.use_jedi = False"
   ]
  },
  {
   "cell_type": "code",
   "execution_count": 2,
   "metadata": {},
   "outputs": [
    {
     "name": "stdout",
     "output_type": "stream",
     "text": [
      "Wall time: 0 ns\n"
     ]
    }
   ],
   "source": [
    "%matplotlib inline\n",
    "%time\n",
    "\n",
    "import numpy as np\n",
    "import matplotlib.pyplot as plt\n",
    "import os, time, glob\n",
    "from tqdm.notebook import tqdm\n",
    "from scipy import signal"
   ]
  },
  {
   "cell_type": "markdown",
   "metadata": {},
   "source": [
    "## Two Layers Network"
   ]
  },
  {
   "cell_type": "markdown",
   "metadata": {},
   "source": [
    "### Theory"
   ]
  },
  {
   "cell_type": "markdown",
   "metadata": {},
   "source": [
    "We will assume the following network:\n",
    "$$f(x) = u^T \\sigma(Wx)$$\n",
    "where the hidden layer has infinite width, and and using the square loss function."
   ]
  },
  {
   "cell_type": "markdown",
   "metadata": {},
   "source": [
    "In this case, we get the following kernel:\n",
    "$$ K(x,x') = \\mathbb{E}_{u,W} \\left[ \\sigma(Wx)\\sigma(Wx') + \\|u\\|^2 \\dot\\sigma(Wx)\\dot\\sigma(Wx')\\langle x,x' \\rangle \\right]$$"
   ]
  },
  {
   "cell_type": "markdown",
   "metadata": {},
   "source": [
    "We assume $x\\in\\sqrt{d}\\mathbb{S}^{d-1}$, $W\\sim N(0,\\|W\\|^{-2}I)$ and $u\\sim N(0,\\|u\\|^{-2}I)$."
   ]
  },
  {
   "cell_type": "markdown",
   "metadata": {},
   "source": [
    "Note:\n",
    "If $\\Sigma_\\rho = \\begin{bmatrix}1 & \\rho \\\\ \\rho & 1\\end{bmatrix}$,\n",
    "then:\n",
    "$$ \\mathbb{E}_{(u,v)\\sim N(0,\\Sigma_\\rho)}[\\sigma(u)\\sigma(v)] = \\frac{\\sqrt{1-\\rho^2} + (\\pi-cos^{-1}(\\rho))\\rho}{2\\pi} $$\n",
    "$$ \\mathbb{E}_{(u,v)\\sim N(0,\\Sigma_\\rho)}[\\dot\\sigma(u)\\dot\\sigma(v)] = \\frac{\\pi-cos^{-1}(\\rho)}{2\\pi} $$"
   ]
  },
  {
   "cell_type": "markdown",
   "metadata": {},
   "source": [
    "In our case, $\\rho = \\frac{\\langle x,x' \\rangle}{d}$, but we need also to normalize everything."
   ]
  },
  {
   "cell_type": "markdown",
   "metadata": {},
   "source": [
    "So,\n",
    "$$\\mathbb{E}_{u,W} [\\sigma(Wx)\\sigma(Wx')] = d \\mathbb{E}_{(u,v)\\sim N(0,\\Sigma_\\rho)}[\\sigma(u)\\sigma(v)]\n",
    "= \\frac{\\sqrt{d^2-\\langle x,x' \\rangle^2} + \\left(\\pi-cos^{-1}\\left(\\frac{\\langle x,x' \\rangle}{d}\\right)\\right)\\langle x,x' \\rangle}{2\\pi}\n",
    "$$\n",
    "and\n",
    "$$\\mathbb{E}_{u,W} [\\dot\\sigma(Wx)\\dot\\sigma(Wx')] = \\mathbb{E}_{(u,v)\\sim N(0,\\Sigma_\\rho)}[\\dot\\sigma(u)\\dot\\sigma(v)]\n",
    "= \\frac{\\pi-cos^{-1}\\left(\\frac{\\langle x,x' \\rangle}{d}\\right)}{2\\pi}\n",
    "$$"
   ]
  },
  {
   "cell_type": "markdown",
   "metadata": {},
   "source": [
    "We are assuming square loss function for simplicity, therefore our step size is:\n",
    "$$ f_t(X) = f_{t-1}(X) - \\lambda H (f_{t-1}(X)-y)$$\n",
    "where $H_{ij} = K(x_i,x_j)$,\n",
    "and\n",
    "$$ f_0(x) = \\mathbb{E}_{u,W} [u^T\\sigma(Wx)]\n",
    "= \\mathbb{E}_{W} [\\mathbb{E}[u^T]\\sigma(Wx)]\n",
    "= 0.$$"
   ]
  },
  {
   "cell_type": "markdown",
   "metadata": {},
   "source": [
    "Note that if we want to calc the value on a new sample, $x$, we need to calculate:\n",
    "$$ f_t(x) = f_{t-1}(x) - \\lambda \\left\\langle [ker(x,x_i)]_{i\\in[m]}, f_{t-1}(X)-y \\right \\rangle.$$"
   ]
  },
  {
   "cell_type": "markdown",
   "metadata": {},
   "source": [
    "### Experiments"
   ]
  },
  {
   "cell_type": "code",
   "execution_count": 3,
   "metadata": {},
   "outputs": [],
   "source": [
    "d = 5 # input dim\n",
    "m = 100 # number of samples"
   ]
  },
  {
   "cell_type": "code",
   "execution_count": 4,
   "metadata": {},
   "outputs": [],
   "source": [
    "np.random.seed(0)\n",
    "X = np.random.randn(d,m)\n",
    "X = X / np.sqrt((X**2).sum(axis=0) / d) # normalized\n",
    "X_test = np.random.randn(d,1000)\n",
    "X_test = X_test / np.sqrt((X_test**2).sum(axis=0) / d)"
   ]
  },
  {
   "cell_type": "code",
   "execution_count": 5,
   "metadata": {},
   "outputs": [],
   "source": [
    "# ground truth\n",
    "h = 50 # hidden neurons\n",
    "u_gt = np.random.randn(h)\n",
    "W_gt = np.random.randn(h,d)"
   ]
  },
  {
   "cell_type": "code",
   "execution_count": 6,
   "metadata": {},
   "outputs": [],
   "source": [
    "y = u_gt.T @ np.maximum(W_gt @ X, 0)\n",
    "y_test = u_gt.T @ np.maximum(W_gt @ X_test, 0)"
   ]
  },
  {
   "cell_type": "code",
   "execution_count": 7,
   "metadata": {},
   "outputs": [],
   "source": [
    "def expectation_relu (innerp, d):\n",
    "    \"\"\"\n",
    "    Calcs E[sigma(Wx1)sigma(Wx2)]\n",
    "    \"\"\"\n",
    "    ang = np.maximum(np.minimum(innerp/d, 1), -1)\n",
    "    res = d*np.sqrt(1-ang**2) + (np.pi - np.arccos(ang))*innerp\n",
    "    return res / 2 / np.pi"
   ]
  },
  {
   "cell_type": "code",
   "execution_count": 8,
   "metadata": {},
   "outputs": [],
   "source": [
    "def expectation_drelu (innerp, d):\n",
    "    \"\"\"\n",
    "    Calcs E[dot(sigma(Wx1))dot(sigma(Wx2))]\n",
    "    \"\"\"\n",
    "    ang = np.maximum(np.minimum(innerp/d, 1), -1)\n",
    "    res = np.pi - np.arccos(ang)\n",
    "    return res / 2 / np.pi"
   ]
  },
  {
   "cell_type": "code",
   "execution_count": 9,
   "metadata": {},
   "outputs": [],
   "source": [
    "def ker(x1, x2):\n",
    "    d = x1.size\n",
    "    innerp = x1.T @ x2\n",
    "    return expectation_relu(innerp,d) + expectation_drelu(innerp,d)*innerp"
   ]
  },
  {
   "cell_type": "code",
   "execution_count": 10,
   "metadata": {},
   "outputs": [],
   "source": [
    "def calc_error (f, X, y):\n",
    "    return ((f(X) - y)**2).mean()"
   ]
  },
  {
   "cell_type": "code",
   "execution_count": 11,
   "metadata": {},
   "outputs": [],
   "source": [
    "H = np.zeros((m,m))\n",
    "for i in range(m):\n",
    "    x1 = X[:,i]\n",
    "    for j in range(m):\n",
    "        x2 = X[:,j]\n",
    "        H[i,j] = ker(x1, x2)"
   ]
  },
  {
   "cell_type": "code",
   "execution_count": 12,
   "metadata": {},
   "outputs": [],
   "source": [
    "# Gradient Descent\n",
    "learning_rate = 1e-2\n",
    "gd_steps = 50\n",
    "f0 = lambda A: np.zeros(A.shape[1])\n",
    "ker_X = lambda x: np.array([ker(x, X[:,i]) for i in range(m)])\n",
    "f0_X = f0(X)"
   ]
  },
  {
   "cell_type": "code",
   "execution_count": 36,
   "metadata": {},
   "outputs": [
    {
     "data": {
      "application/vnd.jupyter.widget-view+json": {
       "model_id": "",
       "version_major": 2,
       "version_minor": 0
      },
      "text/plain": [
       "  0%|          | 0/50 [00:00<?, ?it/s]"
      ]
     },
     "metadata": {},
     "output_type": "display_data"
    },
    {
     "name": "stdout",
     "output_type": "stream",
     "text": [
      "Wall time: 1min 17s\n"
     ]
    }
   ],
   "source": [
    "%%time\n",
    "\n",
    "vt = np.zeros(m)\n",
    "ft_X = f0_X\n",
    "err_train = np.zeros(gd_steps+1)\n",
    "err_test = np.zeros(gd_steps+1)\n",
    "err_train[0] = calc_error(f0, X, y)\n",
    "err_test[0] = calc_error(f0, X_test, y_test)\n",
    "\n",
    "for t in tqdm(range(gd_steps)):\n",
    "    vt += ft_X - y\n",
    "    ft_X = f0_X - learning_rate * (H @ vt)\n",
    "    \n",
    "    ft = lambda A: np.array(f0(A) - [learning_rate * (ker_X(A[:,i]).T @ vt) for i in range(A.shape[1])])\n",
    "    err_train[t+1] = calc_error(ft, X, y)\n",
    "    err_test[t+1] = calc_error(ft, X_test, y_test)"
   ]
  },
  {
   "cell_type": "code",
   "execution_count": 37,
   "metadata": {},
   "outputs": [
    {
     "data": {
      "image/png": "[encoded data removed]",
      "text/plain": [
       "<Figure size 432x288 with 1 Axes>"
      ]
     },
     "metadata": {
      "needs_background": "light"
     },
     "output_type": "display_data"
    }
   ],
   "source": [
    "plt.plot(err_train)\n",
    "plt.plot(err_test)\n",
    "plt.xlabel('epoch')\n",
    "plt.ylabel('error')\n",
    "plt.legend({'train','test'})\n",
    "plt.show()"
   ]
  },
  {
   "cell_type": "markdown",
   "metadata": {},
   "source": [
    "### Experiments - Kernelwise"
   ]
  },
  {
   "cell_type": "code",
   "execution_count": 12,
   "metadata": {},
   "outputs": [],
   "source": [
    "def build_H (X, ker):\n",
    "    m = X.shape[1]\n",
    "    H = np.zeros((m,m))\n",
    "    for i in range(m):\n",
    "        x1 = X[:,i]\n",
    "        for j in range(m):\n",
    "            x2 = X[:,j]\n",
    "            H[i,j] = ker(x1, x2)\n",
    "    return H"
   ]
  },
  {
   "cell_type": "code",
   "execution_count": 13,
   "metadata": {},
   "outputs": [],
   "source": [
    "def run_GD (X, y, X_test, y_test, f0, ker, gd_steps=50, learning_rate=1e-2):\n",
    "    m = X.shape[1]\n",
    "    vt = np.zeros(m)\n",
    "    ker_X = lambda x: np.array([ker(x, X[:,i]) for i in range(m)])\n",
    "    f0_X = f0(X)\n",
    "    ft_X = f0_X\n",
    "    H = build_H(X, ker)\n",
    "    err_train = np.zeros(gd_steps+1)\n",
    "    err_test = np.zeros(gd_steps+1)\n",
    "    err_train[0] = calc_error(f0, X, y)\n",
    "    err_test[0] = calc_error(f0, X_test, y_test)\n",
    "\n",
    "    for t in tqdm(range(gd_steps)):\n",
    "        vt += ft_X - y\n",
    "        ft_X = f0_X - learning_rate * (H @ vt)\n",
    "\n",
    "        ft = lambda A: np.array(f0(A) - [learning_rate * (ker_X(A[:,i]).T @ vt) for i in range(A.shape[1])])\n",
    "        err_train[t+1] = calc_error(ft, X, y)\n",
    "        err_test[t+1] = calc_error(ft, X_test, y_test)\n",
    "        \n",
    "    return ft, err_train, err_test"
   ]
  },
  {
   "cell_type": "code",
   "execution_count": 14,
   "metadata": {},
   "outputs": [],
   "source": [
    "def ker_s1(x1, x2):\n",
    "    d = x1.size\n",
    "    innerp = x1.T @ x2\n",
    "    return expectation_drelu(innerp,d)*innerp"
   ]
  },
  {
   "cell_type": "code",
   "execution_count": 15,
   "metadata": {},
   "outputs": [],
   "source": [
    "def ker_s2(x1, x2):\n",
    "    d = x1.size\n",
    "    innerp = x1.T @ x2\n",
    "    return expectation_relu(innerp,d)"
   ]
  },
  {
   "cell_type": "code",
   "execution_count": 85,
   "metadata": {},
   "outputs": [
    {
     "data": {
      "application/vnd.jupyter.widget-view+json": {
       "model_id": "dde75102617b484786c09990537c0db7",
       "version_major": 2,
       "version_minor": 0
      },
      "text/plain": [
       "  0%|          | 0/50 [00:00<?, ?it/s]"
      ]
     },
     "metadata": {},
     "output_type": "display_data"
    },
    {
     "data": {
      "image/png": "[encoded data removed]",
      "text/plain": [
       "<Figure size 432x288 with 1 Axes>"
      ]
     },
     "metadata": {
      "needs_background": "light"
     },
     "output_type": "display_data"
    },
    {
     "name": "stdout",
     "output_type": "stream",
     "text": [
      "Wall time: 39.3 s\n"
     ]
    }
   ],
   "source": [
    "%%time\n",
    "\n",
    "ft_s1, err_train_s1, err_test_s1 = run_GD(X, y, X_test, y_test, f0, ker_s1)\n",
    "\n",
    "plt.plot(err_train_s1)\n",
    "plt.plot(err_test_s1)\n",
    "plt.xlabel('epoch')\n",
    "plt.ylabel('error')\n",
    "plt.legend({'train','test'})\n",
    "plt.show()"
   ]
  },
  {
   "cell_type": "code",
   "execution_count": 86,
   "metadata": {},
   "outputs": [
    {
     "data": {
      "application/vnd.jupyter.widget-view+json": {
       "model_id": "2edc8ef0664a462a9b4af45bf4553671",
       "version_major": 2,
       "version_minor": 0
      },
      "text/plain": [
       "  0%|          | 0/50 [00:00<?, ?it/s]"
      ]
     },
     "metadata": {},
     "output_type": "display_data"
    },
    {
     "data": {
      "image/png": "[encoded data removed]",
      "text/plain": [
       "<Figure size 432x288 with 1 Axes>"
      ]
     },
     "metadata": {
      "needs_background": "light"
     },
     "output_type": "display_data"
    },
    {
     "name": "stdout",
     "output_type": "stream",
     "text": [
      "Wall time: 1min 30s\n"
     ]
    }
   ],
   "source": [
    "%%time\n",
    "\n",
    "ft_s2, err_train_s2, err_test_s2 = run_GD(X, y, X_test, y_test, ft_s1, ker_s2)\n",
    "\n",
    "plt.plot(err_train_s2)\n",
    "plt.plot(err_test_s2)\n",
    "plt.xlabel('epoch')\n",
    "plt.ylabel('error')\n",
    "plt.legend({'train','test'})\n",
    "plt.show()"
   ]
  },
  {
   "cell_type": "code",
   "execution_count": 422,
   "metadata": {},
   "outputs": [
    {
     "data": {
      "text/plain": [
       "(0.5299918122221952, 0.5769898219374795, 0.5178313696534967)"
      ]
     },
     "execution_count": 422,
     "metadata": {},
     "output_type": "execute_result"
    }
   ],
   "source": [
    "# Compare errors - train\n",
    "err_train[-1], err_train_s1[-1], err_train_s2[-1]"
   ]
  },
  {
   "cell_type": "code",
   "execution_count": 88,
   "metadata": {},
   "outputs": [
    {
     "data": {
      "text/plain": [
       "(1.200123899552359, 1.3666859362759594, 1.2345132916372477)"
      ]
     },
     "execution_count": 88,
     "metadata": {},
     "output_type": "execute_result"
    }
   ],
   "source": [
    "# Compare errors - test\n",
    "err_test[-1], err_test_s1[-1], err_test_s2[-1]"
   ]
  },
  {
   "cell_type": "code",
   "execution_count": 41,
   "metadata": {},
   "outputs": [
    {
     "data": {
      "application/vnd.jupyter.widget-view+json": {
       "model_id": "c9f4b70e221947a9b5d85197413f7e4a",
       "version_major": 2,
       "version_minor": 0
      },
      "text/plain": [
       "  0%|          | 0/150 [00:00<?, ?it/s]"
      ]
     },
     "metadata": {},
     "output_type": "display_data"
    },
    {
     "data": {
      "image/png": "[encoded data removed]",
      "text/plain": [
       "<Figure size 432x288 with 1 Axes>"
      ]
     },
     "metadata": {
      "needs_background": "light"
     },
     "output_type": "display_data"
    },
    {
     "name": "stdout",
     "output_type": "stream",
     "text": [
      "Wall time: 2min 34s\n"
     ]
    }
   ],
   "source": [
    "%%time\n",
    "\n",
    "# Only the last layer\n",
    "f0 = lambda A: np.zeros(A.shape[1])\n",
    "ft_s2_only, err_train_s2_only, err_test_s2_only = run_GD(X, y, X_test, y_test, f0, ker_s2, gd_steps=150)\n",
    "\n",
    "plt.plot(err_train_s2_only)\n",
    "plt.plot(err_test_s2_only)\n",
    "plt.xlabel('epoch')\n",
    "plt.ylabel('error')\n",
    "plt.legend({'train','test'})\n",
    "plt.show()"
   ]
  },
  {
   "cell_type": "code",
   "execution_count": 42,
   "metadata": {},
   "outputs": [
    {
     "data": {
      "text/plain": [
       "(0.7568944279601135, 1.2493828884660088)"
      ]
     },
     "execution_count": 42,
     "metadata": {},
     "output_type": "execute_result"
    }
   ],
   "source": [
    "err_train_s2_only[-1], err_test_s2_only[-1]"
   ]
  },
  {
   "cell_type": "markdown",
   "metadata": {},
   "source": [
    "## Three Layers Network"
   ]
  },
  {
   "cell_type": "markdown",
   "metadata": {},
   "source": [
    "### Theory"
   ]
  },
  {
   "cell_type": "markdown",
   "metadata": {},
   "source": [
    "We will assume the following network:\n",
    "$$f(x) = u^T \\sigma (V \\sigma(Wx))$$\n",
    "where the hidden layers has infinite width, and and using the square loss function."
   ]
  },
  {
   "cell_type": "markdown",
   "metadata": {},
   "source": [
    "In this case, we get the following kernel:\n",
    "$$ K(x,x') = \\mathbb{E}_{u,V,W} \\left[ \\sigma (V \\sigma(Wx))\\sigma (V \\sigma(Wx')) + \\|u\\|^2 \\dot\\sigma (V \\sigma(Wx))\\dot\\sigma (V \\sigma(Wx')) \\sigma(Wx)\\sigma(Wx') + \\|u\\|^2 \\dot\\sigma (V \\sigma(Wx))\\dot\\sigma (V \\sigma(Wx'))\\dot\\sigma(Wx)\\dot\\sigma(Wx')\\langle x,x' \\rangle \\right]$$"
   ]
  },
  {
   "cell_type": "markdown",
   "metadata": {},
   "source": [
    "However, if we want to train each layer separetly, then to train for $W$ we need to use:\n",
    "$$ K_W(x,x') = \\mathbb{E}_{u,V,W} \\left[ \\|u\\|^2 \\dot\\sigma (V \\sigma(Wx))\\dot\\sigma (V \\sigma(Wx'))\\dot\\sigma(Wx)\\dot\\sigma(Wx')\\langle x,x' \\rangle \\right],$$\n",
    "for $V$ we need:\n",
    "$$ K_V(x,x') = \\mathbb{E}_{u,V,W} \\left[ \\|u\\|^2 \\dot\\sigma (V \\sigma(Wx))\\dot\\sigma (V \\sigma(Wx')) \\sigma(Wx)\\sigma(Wx') \\right],$$\n",
    "and for $u$ we need:\n",
    "$$ K_u(x,x') = \\mathbb{E}_{V,W} \\left[ \\sigma (V \\sigma(Wx))\\sigma (V \\sigma(Wx')) \\right].$$"
   ]
  },
  {
   "cell_type": "markdown",
   "metadata": {},
   "source": [
    "Let's reformulate:\n",
    "$$ K_u(x,x') = \\mathbb{E}_{V,W} \\left[ \\sigma (V \\sigma(Wx))\\sigma (V \\sigma(Wx')) \\right]\n",
    "= d \\mathbb{E}_{V,(a,b)\\sim N(0,\\Sigma_\\rho)} \\left[ \\sigma (V \\sigma(a))\\sigma (V \\sigma(b))\\right]\n",
    "= d \\mathbb{E}_{(a,b)\\sim N(0,\\Sigma_{\\rho'})} \\left[ \\sigma (a)\\sigma (b)\\right]$$\n",
    "where\n",
    "$$\\rho' = \\frac{\\sqrt{1-\\rho^2} + \\left(\\pi-cos^{-1}\\left(\\rho\\right)\\right)\\rho}{\\pi}. $$\n",
    "\n"
   ]
  },
  {
   "cell_type": "markdown",
   "metadata": {},
   "source": [
    "Similarly, we get:\n",
    "$$ K_V(x,x') = d \\mathbb{E}_{(u,v)\\sim N(0,\\Sigma_\\rho)}[\\sigma(u)\\sigma(v)] \\cdot \\mathbb{E}_{(u,v)\\sim N(0,\\Sigma_{\\rho'})}[\\dot\\sigma(u)\\dot\\sigma(v)] $$\n",
    "and\n",
    "$$ K_W(x,x') = \\mathbb{E}_{(u,v)\\sim N(0,\\Sigma_\\rho)}[\\dot\\sigma(u)\\dot\\sigma(v)] \\cdot \\mathbb{E}_{(u,v)\\sim N(0,\\Sigma_{\\rho'})}[\\dot\\sigma(u)\\dot\\sigma(v)]. $$"
   ]
  },
  {
   "cell_type": "markdown",
   "metadata": {},
   "source": [
    "Small note: we assume in $K_W$, for instance, that $W\\sim N(0,I)$ while in practice $W\\sim N(0,\\frac{1}{d}I$.\n",
    "Therefore to fix that we need to assume that $W=\\frac{1}{d}W'$ with $W'\\sim N(0,I)$, and that we actually derive the equation using $W'$ and not $W$."
   ]
  },
  {
   "cell_type": "markdown",
   "metadata": {},
   "source": [
    "### Experiments - All 3 layers together"
   ]
  },
  {
   "cell_type": "code",
   "execution_count": 16,
   "metadata": {},
   "outputs": [],
   "source": [
    "d = 5 # input dim\n",
    "m = 100 # number of samples"
   ]
  },
  {
   "cell_type": "code",
   "execution_count": 17,
   "metadata": {},
   "outputs": [],
   "source": [
    "np.random.seed(0)\n",
    "X = np.random.randn(d,m)\n",
    "X = X / np.sqrt((X**2).sum(axis=0) / d) # normalized\n",
    "X_test = np.random.randn(d,1000)\n",
    "X_test = X_test / np.sqrt((X_test**2).sum(axis=0) / d)"
   ]
  },
  {
   "cell_type": "code",
   "execution_count": 18,
   "metadata": {},
   "outputs": [],
   "source": [
    "# ground truth\n",
    "h = 50 # hidden neurons\n",
    "u_gt = np.random.randn(h) / np.sqrt(h)\n",
    "V_gt = np.random.randn(h,h) / np.sqrt(h)\n",
    "W_gt = np.random.randn(h,d) / np.sqrt(d)"
   ]
  },
  {
   "cell_type": "code",
   "execution_count": 19,
   "metadata": {},
   "outputs": [],
   "source": [
    "y3 = u_gt.T @ np.maximum(V_gt @ np.maximum(W_gt @ X, 0), 0)\n",
    "y3_test = u_gt.T @ np.maximum(V_gt @ np.maximum(W_gt @ X_test, 0), 0)"
   ]
  },
  {
   "cell_type": "code",
   "execution_count": 20,
   "metadata": {},
   "outputs": [],
   "source": [
    "def expectation_relu_normalized (rho):\n",
    "    \"\"\"\n",
    "    Calcs E[sqrt(2)sigma(rho) sqrt(2)sigma(rho)]\n",
    "    \"\"\"\n",
    "    res = np.sqrt(1-rho**2) + (np.pi - np.arccos(rho))*rho\n",
    "    return res / np.pi"
   ]
  },
  {
   "cell_type": "code",
   "execution_count": 21,
   "metadata": {},
   "outputs": [],
   "source": [
    "def expectation_drelu_normalized (rho):\n",
    "    \"\"\"\n",
    "    Calcs E[sqrt(2)dot(sigma(rho)) sqrt(2)dot(sigma(rho))]\n",
    "    \"\"\"\n",
    "    res = np.pi - np.arccos(rho)\n",
    "    return res / np.pi"
   ]
  },
  {
   "cell_type": "code",
   "execution_count": 22,
   "metadata": {},
   "outputs": [],
   "source": [
    "def ker_W_rho(rho1, rho2, d):\n",
    "    return d * rho1 * expectation_drelu_normalized(rho1) * expectation_drelu_normalized(rho2) / 4"
   ]
  },
  {
   "cell_type": "code",
   "execution_count": 23,
   "metadata": {},
   "outputs": [],
   "source": [
    "def ker_V_rho(rho1, rho2, d):\n",
    "    return d * rho2 * expectation_drelu_normalized(rho2) / 4"
   ]
  },
  {
   "cell_type": "code",
   "execution_count": 24,
   "metadata": {},
   "outputs": [],
   "source": [
    "def ker_u_rho(rho1, rho2, d):\n",
    "    return d * expectation_relu_normalized(rho2) / 4"
   ]
  },
  {
   "cell_type": "code",
   "execution_count": 25,
   "metadata": {},
   "outputs": [],
   "source": [
    "def ker_total3(x1, x2):\n",
    "    d = x1.size\n",
    "    rho1 = (x1.T @ x2)/d\n",
    "    rho1 = np.maximum(np.minimum(rho1, 1), -1)\n",
    "    rho2 = expectation_relu_normalized(rho1)\n",
    "    return ker_W_rho(rho1,rho2,d) + ker_V_rho(rho1,rho2,d) + ker_u_rho(rho1,rho2,d)"
   ]
  },
  {
   "cell_type": "code",
   "execution_count": 72,
   "metadata": {},
   "outputs": [
    {
     "name": "stdout",
     "output_type": "stream",
     "text": [
      "Wall time: 201 ms\n"
     ]
    }
   ],
   "source": [
    "%%time\n",
    "\n",
    "H3 = np.zeros((m,m))\n",
    "for i in range(m):\n",
    "    x1 = X[:,i]\n",
    "    for j in range(m):\n",
    "        x2 = X[:,j]\n",
    "        H3[i,j] = ker_total3(x1, x2)"
   ]
  },
  {
   "cell_type": "code",
   "execution_count": 73,
   "metadata": {},
   "outputs": [],
   "source": [
    "# Gradient Descent\n",
    "learning_rate = 1e-2\n",
    "gd_steps = 50\n",
    "f0 = lambda A: np.zeros(A.shape[1])\n",
    "ker3_X = lambda x: np.array([ker_total3(x, X[:,i]) for i in range(m)])\n",
    "f0_X = f0(X)"
   ]
  },
  {
   "cell_type": "code",
   "execution_count": 382,
   "metadata": {},
   "outputs": [
    {
     "data": {
      "application/vnd.jupyter.widget-view+json": {
       "model_id": "afa5d13af89049f7b032b576b2b36866",
       "version_major": 2,
       "version_minor": 0
      },
      "text/plain": [
       "  0%|          | 0/50 [00:00<?, ?it/s]"
      ]
     },
     "metadata": {},
     "output_type": "display_data"
    },
    {
     "name": "stdout",
     "output_type": "stream",
     "text": [
      "Wall time: 1min 42s\n"
     ]
    }
   ],
   "source": [
    "%%time\n",
    "\n",
    "vt = np.zeros(m)\n",
    "ft_X = f0_X\n",
    "err3_train = np.zeros(gd_steps+1)\n",
    "err3_test = np.zeros(gd_steps+1)\n",
    "err3_train[0] = calc_error(f0, X, y3)\n",
    "err3_test[0] = calc_error(f0, X_test, y3_test)\n",
    "\n",
    "for t in tqdm(range(gd_steps)):\n",
    "    vt += ft_X - y3\n",
    "    ft_X = f0_X - learning_rate * (H @ vt)\n",
    "    \n",
    "    ft = lambda A: np.array(f0(A) - [learning_rate * (ker3_X(A[:,i]).T @ vt) for i in range(A.shape[1])])\n",
    "    err3_train[t+1] = calc_error(ft, X, y3)\n",
    "    err3_test[t+1] = calc_error(ft, X_test, y3_test)"
   ]
  },
  {
   "cell_type": "code",
   "execution_count": 383,
   "metadata": {},
   "outputs": [
    {
     "data": {
      "image/png": "[encoded data removed]",
      "text/plain": [
       "<Figure size 432x288 with 1 Axes>"
      ]
     },
     "metadata": {
      "needs_background": "light"
     },
     "output_type": "display_data"
    }
   ],
   "source": [
    "plt.plot(err3_train)\n",
    "plt.plot(err3_test)\n",
    "plt.xlabel('epoch')\n",
    "plt.ylabel('error')\n",
    "plt.legend({'train','test'})\n",
    "plt.show()"
   ]
  },
  {
   "cell_type": "markdown",
   "metadata": {},
   "source": [
    "Note: I'm guessing there is a bug here, because if I train using another version of this kernel (see below), I'm getting much better results."
   ]
  },
  {
   "cell_type": "markdown",
   "metadata": {},
   "source": [
    "### Experiments - Each layer at a time"
   ]
  },
  {
   "cell_type": "code",
   "execution_count": 26,
   "metadata": {},
   "outputs": [],
   "source": [
    "def ker_W(x1, x2):\n",
    "    d = x1.size\n",
    "    rho1 = (x1.T @ x2)/d\n",
    "    rho1 = np.maximum(np.minimum(rho1, 1), -1)\n",
    "    rho2 = expectation_relu_normalized(rho1)\n",
    "    return d * rho1 *expectation_drelu_normalized(rho1) * expectation_drelu_normalized(rho2) / 4"
   ]
  },
  {
   "cell_type": "code",
   "execution_count": 27,
   "metadata": {},
   "outputs": [],
   "source": [
    "def ker_V(x1, x2):\n",
    "    d = x1.size\n",
    "    rho1 = (x1.T @ x2)/d\n",
    "    rho1 = np.maximum(np.minimum(rho1, 1), -1)\n",
    "    rho2 = expectation_relu_normalized(rho1)\n",
    "    return d * rho2 * expectation_drelu_normalized(rho2) / 4"
   ]
  },
  {
   "cell_type": "code",
   "execution_count": 28,
   "metadata": {},
   "outputs": [],
   "source": [
    "def ker_u(x1, x2):\n",
    "    d = x1.size\n",
    "    rho1 = (x1.T @ x2)/d\n",
    "    rho1 = np.maximum(np.minimum(rho1, 1), -1)\n",
    "    rho2 = expectation_relu_normalized(rho1)\n",
    "    return d * expectation_relu_normalized(rho2) / 4"
   ]
  },
  {
   "cell_type": "code",
   "execution_count": 397,
   "metadata": {},
   "outputs": [
    {
     "data": {
      "application/vnd.jupyter.widget-view+json": {
       "model_id": "a00f7755c25b4bb1ae84d29e4a87c306",
       "version_major": 2,
       "version_minor": 0
      },
      "text/plain": [
       "  0%|          | 0/150 [00:00<?, ?it/s]"
      ]
     },
     "metadata": {},
     "output_type": "display_data"
    },
    {
     "data": {
      "image/png": "[encoded data removed]",
      "text/plain": [
       "<Figure size 432x288 with 1 Axes>"
      ]
     },
     "metadata": {
      "needs_background": "light"
     },
     "output_type": "display_data"
    },
    {
     "name": "stdout",
     "output_type": "stream",
     "text": [
      "Wall time: 3min 23s\n"
     ]
    }
   ],
   "source": [
    "%%time\n",
    "\n",
    "f0 = lambda A: np.zeros(A.shape[1])\n",
    "ftW, err_train_W, err_test_W = run_GD(X, y3, X_test, y3_test, f0, ker_W, gd_steps=150)\n",
    "\n",
    "plt.plot(err_train_W)\n",
    "plt.plot(err_test_W)\n",
    "plt.xlabel('epoch')\n",
    "plt.ylabel('error')\n",
    "plt.legend({'train','test'})\n",
    "plt.show()"
   ]
  },
  {
   "cell_type": "code",
   "execution_count": 398,
   "metadata": {},
   "outputs": [
    {
     "data": {
      "application/vnd.jupyter.widget-view+json": {
       "model_id": "",
       "version_major": 2,
       "version_minor": 0
      },
      "text/plain": [
       "  0%|          | 0/150 [00:00<?, ?it/s]"
      ]
     },
     "metadata": {},
     "output_type": "display_data"
    },
    {
     "data": {
      "image/png": "[encoded data removed]",
      "text/plain": [
       "<Figure size 432x288 with 1 Axes>"
      ]
     },
     "metadata": {
      "needs_background": "light"
     },
     "output_type": "display_data"
    },
    {
     "name": "stdout",
     "output_type": "stream",
     "text": [
      "Wall time: 6min 20s\n"
     ]
    }
   ],
   "source": [
    "%%time\n",
    "\n",
    "ftV, err_train_V, err_test_V = run_GD(X, y3, X_test, y3_test, ftW, ker_V, gd_steps=150)\n",
    "\n",
    "plt.plot(err_train_V)\n",
    "plt.plot(err_test_V)\n",
    "plt.xlabel('epoch')\n",
    "plt.ylabel('error')\n",
    "plt.legend({'train','test'})\n",
    "plt.show()"
   ]
  },
  {
   "cell_type": "code",
   "execution_count": 399,
   "metadata": {},
   "outputs": [
    {
     "data": {
      "application/vnd.jupyter.widget-view+json": {
       "model_id": "",
       "version_major": 2,
       "version_minor": 0
      },
      "text/plain": [
       "  0%|          | 0/150 [00:00<?, ?it/s]"
      ]
     },
     "metadata": {},
     "output_type": "display_data"
    },
    {
     "data": {
      "image/png": "[encoded data removed]",
      "text/plain": [
       "<Figure size 432x288 with 1 Axes>"
      ]
     },
     "metadata": {
      "needs_background": "light"
     },
     "output_type": "display_data"
    },
    {
     "name": "stdout",
     "output_type": "stream",
     "text": [
      "Wall time: 9min 41s\n"
     ]
    }
   ],
   "source": [
    "%%time\n",
    "\n",
    "ftu, err_train_u, err_test_u = run_GD(X, y3, X_test, y3_test, ftV, ker_u, gd_steps=150)\n",
    "\n",
    "plt.plot(err_train_u) \n",
    "plt.plot(err_test_u)\n",
    "plt.xlabel('epoch')\n",
    "plt.ylabel('error')\n",
    "plt.legend({'train','test'})\n",
    "plt.show()"
   ]
  },
  {
   "cell_type": "code",
   "execution_count": 400,
   "metadata": {},
   "outputs": [
    {
     "data": {
      "image/png": "[encoded data removed]",
      "text/plain": [
       "<Figure size 432x288 with 1 Axes>"
      ]
     },
     "metadata": {
      "needs_background": "light"
     },
     "output_type": "display_data"
    }
   ],
   "source": [
    "# Plot all three trainings together\n",
    "plt.plot(np.concatenate((err_train_W, err_train_V, err_train_u)))\n",
    "plt.plot(np.concatenate((err_test_W, err_test_V, err_test_u)))\n",
    "plt.xlabel('epoch')\n",
    "plt.ylabel('error')\n",
    "plt.legend({'train','test'})\n",
    "plt.show()"
   ]
  },
  {
   "cell_type": "code",
   "execution_count": 395,
   "metadata": {},
   "outputs": [
    {
     "data": {
      "application/vnd.jupyter.widget-view+json": {
       "model_id": "",
       "version_major": 2,
       "version_minor": 0
      },
      "text/plain": [
       "  0%|          | 0/150 [00:00<?, ?it/s]"
      ]
     },
     "metadata": {},
     "output_type": "display_data"
    },
    {
     "data": {
      "image/png": "[encoded data removed]",
      "text/plain": [
       "<Figure size 432x288 with 1 Axes>"
      ]
     },
     "metadata": {
      "needs_background": "light"
     },
     "output_type": "display_data"
    },
    {
     "name": "stdout",
     "output_type": "stream",
     "text": [
      "Wall time: 9min 30s\n"
     ]
    }
   ],
   "source": [
    "%%time\n",
    "\n",
    "# again all\n",
    "\n",
    "ker_all = lambda x1,x2: ker_W(x1,x2) + ker_V(x1,x2) + ker_u(x1,x2)\n",
    "f0 = lambda A: np.zeros(A.shape[1])\n",
    "ftall, err_train_all, err_test_all = run_GD(X, y3, X_test, y3_test, f0, ker_all, gd_steps=150)\n",
    "\n",
    "plt.plot(err_train_all)\n",
    "plt.plot(err_test_all)\n",
    "plt.xlabel('epoch')\n",
    "plt.ylabel('error')\n",
    "plt.legend({'train','test'})\n",
    "plt.show()"
   ]
  },
  {
   "cell_type": "code",
   "execution_count": 420,
   "metadata": {},
   "outputs": [
    {
     "data": {
      "text/plain": [
       "(0.0284740909896448,\n",
       " 0.0011552409541629876,\n",
       " 0.0005168988370142586,\n",
       " 0.0004445867254965753,\n",
       " 0.0004418911281579302)"
      ]
     },
     "execution_count": 420,
     "metadata": {},
     "output_type": "execute_result"
    }
   ],
   "source": [
    "# Compare - train\n",
    "err3_train[-1], err_train_W[-1], err_train_V[-1], err_train_u[-1], err_train_all[-1]"
   ]
  },
  {
   "cell_type": "code",
   "execution_count": 421,
   "metadata": {},
   "outputs": [
    {
     "data": {
      "text/plain": [
       "(0.032584715223048136,\n",
       " 0.006531852426045617,\n",
       " 0.005858372189563435,\n",
       " 0.005722399455401838,\n",
       " 0.0049337453512958455)"
      ]
     },
     "execution_count": 421,
     "metadata": {},
     "output_type": "execute_result"
    }
   ],
   "source": [
    "# Compare - test\n",
    "err3_test[-1], err_test_W[-1], err_test_V[-1], err_test_u[-1], err_test_all[-1]"
   ]
  },
  {
   "cell_type": "code",
   "execution_count": 29,
   "metadata": {},
   "outputs": [
    {
     "data": {
      "application/vnd.jupyter.widget-view+json": {
       "model_id": "fc3fc8a40b924911a520477ddc37668c",
       "version_major": 2,
       "version_minor": 0
      },
      "text/plain": [
       "  0%|          | 0/150 [00:00<?, ?it/s]"
      ]
     },
     "metadata": {},
     "output_type": "display_data"
    },
    {
     "data": {
      "image/png": "[encoded data removed]",
      "text/plain": [
       "<Figure size 432x288 with 1 Axes>"
      ]
     },
     "metadata": {
      "needs_background": "light"
     },
     "output_type": "display_data"
    },
    {
     "name": "stdout",
     "output_type": "stream",
     "text": [
      "Wall time: 3min 28s\n"
     ]
    }
   ],
   "source": [
    "%%time\n",
    "\n",
    "# Only the last layer\n",
    "\n",
    "f0 = lambda A: np.zeros(A.shape[1])\n",
    "ftu_only, err_train_u_only, err_test_u_only = run_GD(X, y3, X_test, y3_test, f0, ker_u, gd_steps=150)\n",
    "\n",
    "plt.plot(err_train_u_only) \n",
    "plt.plot(err_test_u_only)\n",
    "plt.xlabel('epoch')\n",
    "plt.ylabel('error')\n",
    "plt.legend({'train','test'})\n",
    "plt.show()"
   ]
  },
  {
   "cell_type": "code",
   "execution_count": 36,
   "metadata": {},
   "outputs": [
    {
     "data": {
      "text/plain": [
       "(0.0050991181939070325, 0.008423401637322964)"
      ]
     },
     "execution_count": 36,
     "metadata": {},
     "output_type": "execute_result"
    }
   ],
   "source": [
    "err_train_u_only[-1], err_test_u_only[-1]"
   ]
  },
  {
   "cell_type": "markdown",
   "metadata": {},
   "source": [
    "## Verify Derivative"
   ]
  },
  {
   "cell_type": "markdown",
   "metadata": {},
   "source": [
    "Since I'm not sure I'm having the right derivative, I want to verify it using the simple identity:\n",
    "$$ f(x;v_2) - f(x;v_1) = \\int_{v_1}^{v_2} \\frac{df(x)}{dv} dv. $$"
   ]
  },
  {
   "cell_type": "markdown",
   "metadata": {},
   "source": [
    "We will try to approximate this value using very small $dv$s. in the range $[v_1, v_2]$."
   ]
  },
  {
   "cell_type": "markdown",
   "metadata": {},
   "source": [
    "Assume $f(x;W) = u \\sigma(V \\sigma(Wx))$ where $u,V\\in \\mathbb{R}^k$ are given and $W,x\\in\\mathbb{R}$ for simplicity.\n",
    "\n",
    "In this case, we want to argue that:\n",
    "$$ f(x;W_2) - f(x;W_1) = \\int_{W_1}^{W_2} \\frac{df(x;W)}{dW} dW =  \\int_{W_1}^{W_2} u^T diag(\\dot\\sigma(V \\sigma(Wx)))Vdiag(\\dot\\sigma(Wx)) x dW. $$"
   ]
  },
  {
   "cell_type": "markdown",
   "metadata": {},
   "source": [
    "Afterwards, we will show that \n",
    "$$\\mathbb{E}_{u,V,W} \\left\\langle \\frac{df(x;W)}{dW}, \\frac{df(x';W)}{dW}\\right\\rangle\n",
    "= \\mathbb{E}_{(u,v)\\sim N(0,\\Sigma_\\rho)}[\\dot\\sigma(u)\\dot\\sigma(v)] \\cdot \\mathbb{E}_{(u,v)\\sim N(0,\\Sigma_{\\rho'})}[\\dot\\sigma(u)\\dot\\sigma(v)].$$"
   ]
  },
  {
   "cell_type": "code",
   "execution_count": 30,
   "metadata": {},
   "outputs": [],
   "source": [
    "W1 = -5\n",
    "W2 = 3\n",
    "k = 3\n",
    "steps = 1000\n",
    "dW = (W2-W1)/steps"
   ]
  },
  {
   "cell_type": "code",
   "execution_count": 31,
   "metadata": {},
   "outputs": [],
   "source": [
    "np.random.seed(0)\n",
    "u = np.random.randn(k)\n",
    "V = np.random.randn(k,1)\n",
    "x = np.random.randn(1)"
   ]
  },
  {
   "cell_type": "code",
   "execution_count": 33,
   "metadata": {},
   "outputs": [],
   "source": [
    "relu = lambda X: np.maximum(X, 0)\n",
    "drelu = lambda X: (X > 0).astype(np.float)\n",
    "f_xW = lambda x, W: u.T @ relu(V @ relu(W * x))\n",
    "df_xW = lambda x, W: u.T @ np.diag(drelu(V @ relu(W * x))) @ V @ np.diag(drelu(W * x)) @ x"
   ]
  },
  {
   "cell_type": "code",
   "execution_count": 34,
   "metadata": {},
   "outputs": [
    {
     "data": {
      "text/plain": [
       "(13.397300421386262, 13.397300421386259)"
      ]
     },
     "execution_count": 34,
     "metadata": {},
     "output_type": "execute_result"
    }
   ],
   "source": [
    "f_diff = f_xW(x, W2) - f_xW(x, W1)\n",
    "f_diff_approx = dW * np.array([df_xW(x, W) for W in np.arange(W1, W2, dW)]).sum()\n",
    "f_diff, f_diff_approx"
   ]
  },
  {
   "cell_type": "markdown",
   "metadata": {},
   "source": [
    "Conclusion: The derivative seems very accurate."
   ]
  },
  {
   "cell_type": "markdown",
   "metadata": {},
   "source": [
    "Now, to test the other approach."
   ]
  },
  {
   "cell_type": "code",
   "execution_count": 229,
   "metadata": {},
   "outputs": [
    {
     "data": {
      "text/plain": [
       "array([1.])"
      ]
     },
     "execution_count": 229,
     "metadata": {},
     "output_type": "execute_result"
    }
   ],
   "source": [
    "np.diag(drelu(W_rand @ x1))"
   ]
  },
  {
   "cell_type": "code",
   "execution_count": 230,
   "metadata": {},
   "outputs": [
    {
     "data": {
      "text/plain": [
       "((1000, 1000), (1000, 1000))"
      ]
     },
     "execution_count": 230,
     "metadata": {},
     "output_type": "execute_result"
    }
   ],
   "source": [
    "V_rand.shape, np.diag(np.squeeze(drelu(W_rand @ x1))).shape"
   ]
  },
  {
   "cell_type": "code",
   "execution_count": 328,
   "metadata": {},
   "outputs": [
    {
     "data": {
      "application/vnd.jupyter.widget-view+json": {
       "model_id": "e75a9068da64438d9b17ce697723fdb8",
       "version_major": 2,
       "version_minor": 0
      },
      "text/plain": [
       "  0%|          | 0/100000 [00:00<?, ?it/s]"
      ]
     },
     "metadata": {},
     "output_type": "display_data"
    },
    {
     "data": {
      "text/plain": [
       "(0.3760591738509071, array([[0.37316793]]))"
      ]
     },
     "execution_count": 328,
     "metadata": {},
     "output_type": "execute_result"
    }
   ],
   "source": [
    "# For 3 layers - derivative by W\n",
    "rounds = 100000\n",
    "k = 100\n",
    "d = 10\n",
    "np.random.seed(0)\n",
    "x1 = np.random.randn(d,1)\n",
    "x2 = np.random.randn(d,1)\n",
    "x1 = np.sqrt(d) * x1 / np.linalg.norm(x1)\n",
    "x2 = np.sqrt(d) * x2 / np.linalg.norm(x2)\n",
    "\n",
    "diag = lambda X: np.diag(np.squeeze(X))\n",
    "\n",
    "K_direct = 0\n",
    "for i in tqdm(range(rounds)):\n",
    "    u_rand = np.random.randn(k,1) / np.sqrt(k)\n",
    "    V_rand = np.random.randn(k,k) / np.sqrt(k)\n",
    "    W_rand = np.random.randn(k,d) / np.sqrt(d)\n",
    "\n",
    "    K_direct += (((u_rand.T @ diag(drelu(V_rand @ relu(W_rand @ x1))) @ V_rand @ diag(drelu(W_rand @ x1))).T @ x1.T) * \\\n",
    "                 ((u_rand.T @ diag(drelu(V_rand @ relu(W_rand @ x2))) @ V_rand @ diag(drelu(W_rand @ x2))).T @ x2.T)).sum() / rounds\n",
    "\n",
    "K_evolve = ker_W(x1, x2)\n",
    "\n",
    "K_direct, K_evolve"
   ]
  },
  {
   "cell_type": "code",
   "execution_count": 338,
   "metadata": {},
   "outputs": [
    {
     "data": {
      "application/vnd.jupyter.widget-view+json": {
       "model_id": "3bf9665fc6d64847a06b99d2c3d34fca",
       "version_major": 2,
       "version_minor": 0
      },
      "text/plain": [
       "  0%|          | 0/100000 [00:00<?, ?it/s]"
      ]
     },
     "metadata": {},
     "output_type": "display_data"
    },
    {
     "data": {
      "text/plain": [
       "(1.0901472765626482e-05, array([[1.08851376e-05]]))"
      ]
     },
     "execution_count": 338,
     "metadata": {},
     "output_type": "execute_result"
    }
   ],
   "source": [
    "# For 3 layers - derivative by V\n",
    "rounds = 100000\n",
    "k = 100\n",
    "d = 2\n",
    "np.random.seed(111)\n",
    "x1 = np.random.randn(d,1)\n",
    "x2 = np.random.randn(d,1)\n",
    "x1 = np.sqrt(d) * x1 / np.linalg.norm(x1)\n",
    "x2 = np.sqrt(d) * x2 / np.linalg.norm(x2)\n",
    "\n",
    "diag = lambda X: np.diag(np.squeeze(X))\n",
    "\n",
    "K_direct = 0\n",
    "for i in tqdm(range(rounds)):\n",
    "    u_rand = np.random.randn(k,1) / np.sqrt(k)\n",
    "    V_rand = np.random.randn(k,k) / np.sqrt(k)\n",
    "    W_rand = np.random.randn(k,d) / np.sqrt(d)\n",
    "\n",
    "    K_direct += (((u_rand.T @ diag(drelu(V_rand @ relu(W_rand @ x1)))).T @ relu(W_rand @ x1).T) * \\\n",
    "                 ((u_rand.T @ diag(drelu(V_rand @ relu(W_rand @ x2)))).T @ relu(W_rand @ x2).T)).sum() / k / rounds\n",
    "\n",
    "K_evolve = ker_V(x1, x2)\n",
    "\n",
    "K_direct, K_evolve"
   ]
  },
  {
   "cell_type": "code",
   "execution_count": 341,
   "metadata": {},
   "outputs": [
    {
     "data": {
      "application/vnd.jupyter.widget-view+json": {
       "model_id": "a38fd552b9d3464b8a9932f575bed9b0",
       "version_major": 2,
       "version_minor": 0
      },
      "text/plain": [
       "  0%|          | 0/100000 [00:00<?, ?it/s]"
      ]
     },
     "metadata": {},
     "output_type": "display_data"
    },
    {
     "data": {
      "text/plain": [
       "(0.18245364291265478, array([[0.18246049]]))"
      ]
     },
     "execution_count": 341,
     "metadata": {},
     "output_type": "execute_result"
    }
   ],
   "source": [
    "# For 3 layers - derivative by u\n",
    "rounds = 100000\n",
    "k = 100\n",
    "d = 2\n",
    "np.random.seed(0)\n",
    "x1 = np.random.randn(d,1)\n",
    "x2 = np.random.randn(d,1)\n",
    "x1 = np.sqrt(d) * x1 / np.linalg.norm(x1)\n",
    "x2 = np.sqrt(d) * x2 / np.linalg.norm(x2)\n",
    "\n",
    "K_direct = 0\n",
    "for i in tqdm(range(rounds)):\n",
    "    u_rand = np.random.randn(k,1) / np.sqrt(k)\n",
    "    V_rand = np.random.randn(k,k) / np.sqrt(k)\n",
    "    W_rand = np.random.randn(k,d) / np.sqrt(d)\n",
    "\n",
    "    K_direct += ((relu(V_rand @ relu(W_rand @ x1))) * \\\n",
    "                 (relu(V_rand @ relu(W_rand @ x2)))).sum() / k / rounds\n",
    "\n",
    "K_evolve = ker_u(x1, x2)\n",
    "\n",
    "K_direct, K_evolve"
   ]
  },
  {
   "cell_type": "code",
   "execution_count": 239,
   "metadata": {},
   "outputs": [
    {
     "data": {
      "text/plain": [
       "(0.41636559969342035, array([[0.41637728]]))"
      ]
     },
     "execution_count": 239,
     "metadata": {},
     "output_type": "execute_result"
    }
   ],
   "source": [
    "# For 2 layers\n",
    "rounds = 100000\n",
    "k = 1000\n",
    "d = 2\n",
    "np.random.seed(0)\n",
    "x1 = np.random.randn(d,1)\n",
    "x2 = np.random.randn(d,1)\n",
    "x1 = np.sqrt(d) * x1 / np.linalg.norm(x1)\n",
    "x2 = np.sqrt(d) * x2 / np.linalg.norm(x2)\n",
    "\n",
    "K_direct = 0\n",
    "for i in range(rounds):\n",
    "    u_rand = np.random.randn(k,1) / np.sqrt(k)\n",
    "    W_rand = np.random.randn(k,d) / np.sqrt(d)\n",
    "\n",
    "    K_direct += (((u_rand * drelu(W_rand @ x1)) @ x1.T) * \\\n",
    "                 ((u_rand * drelu(W_rand @ x2)) @ x2.T)).sum() / rounds\n",
    "\n",
    "innerp = x1.T @ x2\n",
    "K_evolve = expectation_drelu(innerp,d)*innerp\n",
    "\n",
    "K_direct, K_evolve"
   ]
  },
  {
   "cell_type": "code",
   "execution_count": 308,
   "metadata": {},
   "outputs": [
    {
     "data": {
      "text/plain": [
       "(0.2122846302316755, array([[0.21239288]]), array([[0.21239288]]))"
      ]
     },
     "execution_count": 308,
     "metadata": {},
     "output_type": "execute_result"
    }
   ],
   "source": [
    "np.random.seed(0)\n",
    "W_rand = np.random.randn(rounds, d) / np.sqrt(d)\n",
    "x1 = np.random.randn(d,1)\n",
    "x2 = np.random.randn(d,1)\n",
    "x1 = np.sqrt(d) * x1 / np.linalg.norm(x1)\n",
    "x2 = np.sqrt(d) * x2 / np.linalg.norm(x2)\n",
    "\n",
    "K_direct = (relu(W_rand @ x1) * relu(W_rand @ x2)).mean()\n",
    "innerp = x1.T @ x2\n",
    "K_evolve = expectation_relu(innerp, d) / d\n",
    "K_evolve2 = expectation_relu_normalized(innerp / d) / 2\n",
    "\n",
    "K_direct, K_evolve, K_evolve2"
   ]
  },
  {
   "cell_type": "code",
   "execution_count": 309,
   "metadata": {},
   "outputs": [
    {
     "data": {
      "text/plain": [
       "(0.28584, array([[0.2820725]]), array([[0.2820725]]))"
      ]
     },
     "execution_count": 309,
     "metadata": {},
     "output_type": "execute_result"
    }
   ],
   "source": [
    "rounds = 100000\n",
    "np.random.seed(0)\n",
    "W_rand = np.random.randn(rounds, d) / np.sqrt(d)\n",
    "x1 = np.random.randn(d,1)\n",
    "x2 = np.random.randn(d,1)\n",
    "x1 = np.sqrt(d) * x1 / np.linalg.norm(x1)\n",
    "x2 = np.sqrt(d) * x2 / np.linalg.norm(x2)\n",
    "\n",
    "K_direct = (drelu(W_rand @ x1) * drelu(W_rand @ x2)).mean()\n",
    "innerp = x1.T @ x2\n",
    "K_evolve = expectation_drelu(innerp, d)\n",
    "K_evolve2 = expectation_drelu_normalized(innerp / d) / 2\n",
    "\n",
    "K_direct, K_evolve, K_evolve2"
   ]
  },
  {
   "cell_type": "code",
   "execution_count": 292,
   "metadata": {},
   "outputs": [
    {
     "data": {
      "application/vnd.jupyter.widget-view+json": {
       "model_id": "2d1334d9bc9d45abbc9511d4678d508a",
       "version_major": 2,
       "version_minor": 0
      },
      "text/plain": [
       "  0%|          | 0/100000 [00:00<?, ?it/s]"
      ]
     },
     "metadata": {},
     "output_type": "display_data"
    },
    {
     "data": {
      "text/plain": [
       "(array([[0.33792]]), array([[0.33678664]]))"
      ]
     },
     "execution_count": 292,
     "metadata": {},
     "output_type": "execute_result"
    }
   ],
   "source": [
    "d = 10\n",
    "np.random.seed(0)\n",
    "x1 = np.random.randn(d,1)\n",
    "x2 = np.random.randn(d,1)\n",
    "x1 = np.sqrt(d) * x1 / np.linalg.norm(x1)\n",
    "x2 = np.sqrt(d) * x2 / np.linalg.norm(x2)\n",
    "\n",
    "K_direct = 0\n",
    "for i in tqdm(range(rounds)):\n",
    "    W_rand = np.random.randn(k, d) / np.sqrt(d)\n",
    "    V_rand = np.random.randn(1, k) / np.sqrt(k)\n",
    "    K_direct += drelu(V_rand @ relu(W_rand @ x1)) * drelu(V_rand @ relu(W_rand @ x2)) / rounds\n",
    "\n",
    "innerp = x1.T @ x2\n",
    "K_evolve = expectation_drelu_normalized(expectation_relu_normalized(innerp/d)) / 2\n",
    "\n",
    "K_direct, K_evolve"
   ]
  },
  {
   "cell_type": "code",
   "execution_count": 326,
   "metadata": {},
   "outputs": [
    {
     "data": {
      "application/vnd.jupyter.widget-view+json": {
       "model_id": "c3a172174c524b448137db46fee7b563",
       "version_major": 2,
       "version_minor": 0
      },
      "text/plain": [
       "  0%|          | 0/100000 [00:00<?, ?it/s]"
      ]
     },
     "metadata": {},
     "output_type": "display_data"
    },
    {
     "data": {
      "text/plain": [
       "(array([[0.02320799]]), array([[0.02299667]]))"
      ]
     },
     "execution_count": 326,
     "metadata": {},
     "output_type": "execute_result"
    }
   ],
   "source": [
    "np.random.seed(50)\n",
    "x1 = np.random.randn(d,1)\n",
    "x2 = np.random.randn(d,1)\n",
    "x1 = np.sqrt(d) * x1 / np.linalg.norm(x1)\n",
    "x2 = np.sqrt(d) * x2 / np.linalg.norm(x2)\n",
    "\n",
    "K_direct = 0\n",
    "for i in tqdm(range(rounds)):\n",
    "    W_rand = np.random.randn(k, d) / np.sqrt(d)\n",
    "    V_rand = np.random.randn(1, k) / np.sqrt(k)\n",
    "    K_direct += drelu(V_rand @ relu(W_rand @ x1)) * drelu(V_rand @ relu(W_rand @ x2)) * \\\n",
    "                (relu(W_rand @ x1).T @ relu(W_rand @ x2)) / k / rounds\n",
    "\n",
    "rho = expectation_relu_normalized(x1.T @ x2 / d)\n",
    "K_evolve = expectation_drelu_normalized(rho) / 4 * rho\n",
    "\n",
    "K_direct, K_evolve"
   ]
  },
  {
   "cell_type": "markdown",
   "metadata": {},
   "source": [
    "## Three Layers Classification Network"
   ]
  },
  {
   "cell_type": "markdown",
   "metadata": {},
   "source": [
    "This part is pretty similar to the above, except that we use the logistic loss:\n",
    "$$ \\ell(f, (x,y)) = \\frac{1}{1+\\exp (y f(x))} $$\n",
    "where $y\\in\\{\\pm 1\\}$."
   ]
  },
  {
   "cell_type": "markdown",
   "metadata": {},
   "source": [
    "This loss has a known derivative:\n",
    "$$ \\frac{d\\ell}{df} = -y \\ell(f)(1-\\ell(f))$$\n",
    "(I removed the $(x,y)$ term for redability)."
   ]
  },
  {
   "cell_type": "code",
   "execution_count": 30,
   "metadata": {},
   "outputs": [],
   "source": [
    "def calc_logistic_error (f, X, y):\n",
    "    return ((1 + np.exp(f(X) * y))**(-1)).mean()"
   ]
  },
  {
   "cell_type": "code",
   "execution_count": 31,
   "metadata": {},
   "outputs": [],
   "source": [
    "def run_GD_logistic (X, y, X_test, y_test, f0, ker, gd_steps=50, learning_rate=1e-2):\n",
    "    m = X.shape[1]\n",
    "    vt = np.zeros(m)\n",
    "    ker_X = lambda x: np.array([ker(x, X[:,i]) for i in range(m)])\n",
    "    ft = f0\n",
    "    H = build_H(X, ker)\n",
    "    err_train = np.zeros(gd_steps+1)\n",
    "    err_test = np.zeros(gd_steps+1)\n",
    "    err_train[0] = calc_logistic_error(f0, X, y)\n",
    "    err_test[0] = calc_logistic_error(f0, X_test, y_test)\n",
    "\n",
    "    for t in tqdm(range(gd_steps)):\n",
    "        loss_on_X = ((1 + np.exp(ft(X) * y))**(-1))\n",
    "        vt -= y * loss_on_X * (1 - loss_on_X)\n",
    "\n",
    "        ft = lambda A: np.array(f0(A) - [learning_rate * (ker_X(A[:,i]).T @ vt) for i in range(A.shape[1])])\n",
    "        err_train[t+1] = calc_logistic_error(ft, X, y)\n",
    "        err_test[t+1] = calc_logistic_error(ft, X_test, y_test)\n",
    "        \n",
    "    return ft, err_train, err_test"
   ]
  },
  {
   "cell_type": "code",
   "execution_count": 32,
   "metadata": {},
   "outputs": [],
   "source": [
    "d = 5 # input dim\n",
    "m = 100 # number of samples"
   ]
  },
  {
   "cell_type": "code",
   "execution_count": 33,
   "metadata": {},
   "outputs": [],
   "source": [
    "np.random.seed(0)\n",
    "X = np.random.randn(d,m)\n",
    "X = X / np.sqrt((X**2).sum(axis=0) / d) # normalized\n",
    "X_test = np.random.randn(d,1000)\n",
    "X_test = X_test / np.sqrt((X_test**2).sum(axis=0) / d)"
   ]
  },
  {
   "cell_type": "code",
   "execution_count": 34,
   "metadata": {},
   "outputs": [],
   "source": [
    "# ground truth\n",
    "h = 50 # hidden neurons\n",
    "u_gt = np.random.randn(h) / np.sqrt(h)\n",
    "V_gt = np.random.randn(h,h) / np.sqrt(h)\n",
    "W_gt = np.random.randn(h,d) / np.sqrt(d)"
   ]
  },
  {
   "cell_type": "code",
   "execution_count": 35,
   "metadata": {},
   "outputs": [],
   "source": [
    "y01 = (u_gt.T @ np.maximum(V_gt @ np.maximum(W_gt @ X, 0), 0) >= 0).astype(np.int32) * 2 - 1\n",
    "y01_test = (u_gt.T @ np.maximum(V_gt @ np.maximum(W_gt @ X_test, 0), 0) >= 0).astype(np.int32) * 2 - 1"
   ]
  },
  {
   "cell_type": "code",
   "execution_count": 413,
   "metadata": {},
   "outputs": [
    {
     "data": {
      "application/vnd.jupyter.widget-view+json": {
       "model_id": "a27925989a694ba284bc7394f93a7bce",
       "version_major": 2,
       "version_minor": 0
      },
      "text/plain": [
       "  0%|          | 0/150 [00:00<?, ?it/s]"
      ]
     },
     "metadata": {},
     "output_type": "display_data"
    },
    {
     "data": {
      "image/png": "[encoded data removed]",
      "text/plain": [
       "<Figure size 432x288 with 1 Axes>"
      ]
     },
     "metadata": {
      "needs_background": "light"
     },
     "output_type": "display_data"
    },
    {
     "name": "stdout",
     "output_type": "stream",
     "text": [
      "Wall time: 3min 42s\n"
     ]
    }
   ],
   "source": [
    "%%time\n",
    "\n",
    "f0 = lambda A: np.zeros(A.shape[1])\n",
    "ftW01, err_train_W01, err_test_W01 = run_GD_logistic(X, y01, X_test, y01_test, f0, ker_W, gd_steps=150)\n",
    "\n",
    "plt.plot(err_train_W01)\n",
    "plt.plot(err_test_W01)\n",
    "plt.xlabel('epoch')\n",
    "plt.ylabel('error')\n",
    "plt.legend({'train','test'})\n",
    "plt.show()"
   ]
  },
  {
   "cell_type": "code",
   "execution_count": 414,
   "metadata": {},
   "outputs": [
    {
     "data": {
      "application/vnd.jupyter.widget-view+json": {
       "model_id": "862c3f9e400c4906be330118dc11dc77",
       "version_major": 2,
       "version_minor": 0
      },
      "text/plain": [
       "  0%|          | 0/150 [00:00<?, ?it/s]"
      ]
     },
     "metadata": {},
     "output_type": "display_data"
    },
    {
     "data": {
      "image/png": "[encoded data removed]",
      "text/plain": [
       "<Figure size 432x288 with 1 Axes>"
      ]
     },
     "metadata": {
      "needs_background": "light"
     },
     "output_type": "display_data"
    },
    {
     "name": "stdout",
     "output_type": "stream",
     "text": [
      "Wall time: 6min 59s\n"
     ]
    }
   ],
   "source": [
    "%%time\n",
    "\n",
    "ftV01, err_train_V01, err_test_V01 = run_GD_logistic(X, y01, X_test, y01_test, ftW01, ker_V, gd_steps=150)\n",
    "\n",
    "plt.plot(err_train_V01)\n",
    "plt.plot(err_test_V01)\n",
    "plt.xlabel('epoch')\n",
    "plt.ylabel('error')\n",
    "plt.legend({'train','test'})\n",
    "plt.show()"
   ]
  },
  {
   "cell_type": "code",
   "execution_count": 415,
   "metadata": {},
   "outputs": [
    {
     "data": {
      "application/vnd.jupyter.widget-view+json": {
       "model_id": "38cd44b9451b48b2bf0d76b3951f1e05",
       "version_major": 2,
       "version_minor": 0
      },
      "text/plain": [
       "  0%|          | 0/150 [00:00<?, ?it/s]"
      ]
     },
     "metadata": {},
     "output_type": "display_data"
    },
    {
     "data": {
      "image/png": "[encoded data removed]",
      "text/plain": [
       "<Figure size 432x288 with 1 Axes>"
      ]
     },
     "metadata": {
      "needs_background": "light"
     },
     "output_type": "display_data"
    },
    {
     "name": "stdout",
     "output_type": "stream",
     "text": [
      "Wall time: 10min 44s\n"
     ]
    }
   ],
   "source": [
    "%%time\n",
    "\n",
    "ftu01, err_train_u01, err_test_u01 = run_GD_logistic(X, y01, X_test, y01_test, ftV01, ker_u, gd_steps=150)\n",
    "\n",
    "plt.plot(err_train_u01) \n",
    "plt.plot(err_test_u01)\n",
    "plt.xlabel('epoch')\n",
    "plt.ylabel('error')\n",
    "plt.legend({'train','test'})\n",
    "plt.show()"
   ]
  },
  {
   "cell_type": "code",
   "execution_count": 416,
   "metadata": {},
   "outputs": [
    {
     "data": {
      "image/png": "[encoded data removed]",
      "text/plain": [
       "<Figure size 432x288 with 1 Axes>"
      ]
     },
     "metadata": {
      "needs_background": "light"
     },
     "output_type": "display_data"
    }
   ],
   "source": [
    "# Plot all three trainings together\n",
    "plt.plot(np.concatenate((err_train_W01, err_train_V01, err_train_u01)))\n",
    "plt.plot(np.concatenate((err_test_W01, err_test_V01, err_test_u01)))\n",
    "plt.xlabel('epoch')\n",
    "plt.ylabel('error')\n",
    "plt.legend({'train','test'})\n",
    "plt.show()"
   ]
  },
  {
   "cell_type": "code",
   "execution_count": 417,
   "metadata": {},
   "outputs": [
    {
     "data": {
      "application/vnd.jupyter.widget-view+json": {
       "model_id": "c6a71679408b4f6c83a75381e74de9de",
       "version_major": 2,
       "version_minor": 0
      },
      "text/plain": [
       "  0%|          | 0/150 [00:00<?, ?it/s]"
      ]
     },
     "metadata": {},
     "output_type": "display_data"
    },
    {
     "data": {
      "image/png": "[encoded data removed]",
      "text/plain": [
       "<Figure size 432x288 with 1 Axes>"
      ]
     },
     "metadata": {
      "needs_background": "light"
     },
     "output_type": "display_data"
    },
    {
     "name": "stdout",
     "output_type": "stream",
     "text": [
      "Wall time: 10min 22s\n"
     ]
    }
   ],
   "source": [
    "%%time\n",
    "\n",
    "# again all\n",
    "\n",
    "ker_all = lambda x1,x2: ker_W(x1,x2) + ker_V(x1,x2) + ker_u(x1,x2)\n",
    "f0 = lambda A: np.zeros(A.shape[1])\n",
    "ftall01, err_train_all01, err_test_all01 = run_GD_logistic(X, y01, X_test, y01_test, f0, ker_all, gd_steps=150)\n",
    "\n",
    "plt.plot(err_train_all01)\n",
    "plt.plot(err_test_all01)\n",
    "plt.xlabel('epoch')\n",
    "plt.ylabel('error')\n",
    "plt.legend({'train','test'})\n",
    "plt.show()"
   ]
  },
  {
   "cell_type": "code",
   "execution_count": 419,
   "metadata": {},
   "outputs": [
    {
     "data": {
      "text/plain": [
       "(0.1733747014805372,\n",
       " 0.10392365944857254,\n",
       " 0.0877419667706284,\n",
       " 0.09720609790262957)"
      ]
     },
     "execution_count": 419,
     "metadata": {},
     "output_type": "execute_result"
    }
   ],
   "source": [
    "# Compare - train\n",
    "err_train_W01[-1], err_train_V01[-1], err_train_u01[-1], err_train_all01[-1]"
   ]
  },
  {
   "cell_type": "code",
   "execution_count": 423,
   "metadata": {},
   "outputs": [
    {
     "data": {
      "text/plain": [
       "(0.231210495951175,\n",
       " 0.15978079334241618,\n",
       " 0.1433075722576607,\n",
       " 0.1510583906953047)"
      ]
     },
     "execution_count": 423,
     "metadata": {},
     "output_type": "execute_result"
    }
   ],
   "source": [
    "# Compare - test\n",
    "err_test_W01[-1], err_test_V01[-1], err_test_u01[-1], err_test_all01[-1]"
   ]
  },
  {
   "cell_type": "code",
   "execution_count": 37,
   "metadata": {},
   "outputs": [
    {
     "data": {
      "application/vnd.jupyter.widget-view+json": {
       "model_id": "d208dbebf99f45ff98bf4682b5479bad",
       "version_major": 2,
       "version_minor": 0
      },
      "text/plain": [
       "  0%|          | 0/150 [00:00<?, ?it/s]"
      ]
     },
     "metadata": {},
     "output_type": "display_data"
    },
    {
     "data": {
      "image/png": "[encoded data removed]",
      "text/plain": [
       "<Figure size 432x288 with 1 Axes>"
      ]
     },
     "metadata": {
      "needs_background": "light"
     },
     "output_type": "display_data"
    },
    {
     "name": "stdout",
     "output_type": "stream",
     "text": [
      "Wall time: 3min 46s\n"
     ]
    }
   ],
   "source": [
    "%%time\n",
    "\n",
    "# Only the last layer\n",
    "f0 = lambda A: np.zeros(A.shape[1])\n",
    "ftu01_only, err_train_u01_only, err_test_u01_only = run_GD_logistic(X, y01, X_test, y01_test, f0, ker_u, gd_steps=150)\n",
    "\n",
    "plt.plot(err_train_u01_only)\n",
    "plt.plot(err_test_u01_only)\n",
    "plt.xlabel('epoch')\n",
    "plt.ylabel('error')\n",
    "plt.legend({'train','test'})\n",
    "plt.show()"
   ]
  },
  {
   "cell_type": "code",
   "execution_count": 38,
   "metadata": {},
   "outputs": [
    {
     "data": {
      "text/plain": [
       "(0.1692773894444251, 0.19303869800822396)"
      ]
     },
     "execution_count": 38,
     "metadata": {},
     "output_type": "execute_result"
    }
   ],
   "source": [
    "err_train_u01_only[-1], err_test_u01_only[-1]"
   ]
  },
  {
   "cell_type": "markdown",
   "metadata": {},
   "source": [
    "## SVD Investigation - Square Loss"
   ]
  },
  {
   "cell_type": "markdown",
   "metadata": {},
   "source": [
    "### Theory"
   ]
  },
  {
   "cell_type": "markdown",
   "metadata": {},
   "source": [
    "Let $H$ as before, and as it a kernel, it can be written by $H=A^TA$ where\n",
    "$A = \\varphi(X) := (\\varphi(x_i))_{i\\in[m]})$ and\n",
    "$\\varphi(x) = \\frac{df(x)}{dW}$."
   ]
  },
  {
   "cell_type": "markdown",
   "metadata": {},
   "source": [
    "Let $A\\in\\mathbb{R}^{d\\times m}$ (with $d$ is the number of parameters, and $m$ is the number of samples).\n",
    "We can use SVD to write $A=USV^T$ and $H = VS^2V^T$."
   ]
  },
  {
   "cell_type": "markdown",
   "metadata": {},
   "source": [
    "Let $S = [S_1 \\, 0]$ where $S_1$ are the part of the non-zero singular values.\n",
    "With correspondence, write $V = [V_1 \\, V_2]$ such that\n",
    "$$ H = VS^2 V^T = V_1 S_1^2 V_1^T .$$"
   ]
  },
  {
   "cell_type": "markdown",
   "metadata": {},
   "source": [
    "If we assume the square loss, we can show that the GD step:\n",
    "$$ f_t(X) = f_{t-1}(X) - H(f_{t-1}(X) - y) $$\n",
    "converges at infinty to:\n",
    "$$ f_\\infty (X) = V_2 V_2^T f_0(X) + V_1 V_1^T y $$\n",
    "where $X=[x_1, \\dots, x_m]$ and $f(X)$ means running $f(x_i)$ for each $i$ element-wise."
   ]
  },
  {
   "cell_type": "markdown",
   "metadata": {},
   "source": [
    "Note: If $S_1 == S$ then we get:\n",
    "$$ f_\\infty (X) = V_1 V_1^T y = V V^T y = y$$\n",
    "which is a pretty trivial result."
   ]
  },
  {
   "cell_type": "markdown",
   "metadata": {},
   "source": [
    "### Experiments"
   ]
  },
  {
   "cell_type": "code",
   "execution_count": 227,
   "metadata": {},
   "outputs": [],
   "source": [
    "def kernel_rank (X, ker, threshold=1e-3):\n",
    "    \"\"\"\n",
    "    Return the rank of the matrix H that is defined by the kernel\n",
    "    \"\"\"\n",
    "    H =build_H(X, ker)\n",
    "    [_,S,_] = np.linalg.svd(H)\n",
    "    return (S > threshold).sum()"
   ]
  },
  {
   "cell_type": "code",
   "execution_count": 41,
   "metadata": {},
   "outputs": [
    {
     "data": {
      "application/vnd.jupyter.widget-view+json": {
       "model_id": "d82e20860d99421391c1ef143b19b61c",
       "version_major": 2,
       "version_minor": 0
      },
      "text/plain": [
       "  0%|          | 0/150 [00:00<?, ?it/s]"
      ]
     },
     "metadata": {},
     "output_type": "display_data"
    },
    {
     "name": "stdout",
     "output_type": "stream",
     "text": [
      "Wall time: 3min 32s\n"
     ]
    }
   ],
   "source": [
    "%%time\n",
    "\n",
    "f0 = lambda A: np.zeros(A.shape[1])\n",
    "ftW, err_train_W, err_test_W = run_GD(X, y3, X_test, y3_test, f0, ker_W, gd_steps=150)"
   ]
  },
  {
   "cell_type": "code",
   "execution_count": 68,
   "metadata": {},
   "outputs": [
    {
     "data": {
      "application/vnd.jupyter.widget-view+json": {
       "model_id": "21caf47d76444730aab78ba96e825385",
       "version_major": 2,
       "version_minor": 0
      },
      "text/plain": [
       "  0%|          | 0/150 [00:00<?, ?it/s]"
      ]
     },
     "metadata": {},
     "output_type": "display_data"
    },
    {
     "name": "stdout",
     "output_type": "stream",
     "text": [
      "Wall time: 3min 35s\n"
     ]
    }
   ],
   "source": [
    "%%time\n",
    "\n",
    "f0 = lambda A: np.zeros(A.shape[1])\n",
    "ftu_only, err_train_u_only, err_test_u_only = run_GD(X, y3, X_test, y3_test, f0, ker_u, gd_steps=150)"
   ]
  },
  {
   "cell_type": "code",
   "execution_count": 69,
   "metadata": {},
   "outputs": [],
   "source": [
    "ftX = ftW(X)\n",
    "ftuX = ftu_only(X)"
   ]
  },
  {
   "cell_type": "code",
   "execution_count": 42,
   "metadata": {},
   "outputs": [],
   "source": [
    "H_W =build_HH(X, ker_W)\n",
    "[U,S,Vh] = np.linalg.svd(H_W)"
   ]
  },
  {
   "cell_type": "code",
   "execution_count": 51,
   "metadata": {},
   "outputs": [
    {
     "data": {
      "text/plain": [
       "(3.512748155939339e-27, 8.913460828048296e-28)"
      ]
     },
     "execution_count": 51,
     "metadata": {},
     "output_type": "execute_result"
    }
   ],
   "source": [
    "# Verify SVD - should get a small error\n",
    "((H_W - U @ np.diag(S) @ Vh)**2).sum(), ((U - Vh.T)**2).sum()"
   ]
  },
  {
   "cell_type": "code",
   "execution_count": 62,
   "metadata": {},
   "outputs": [
    {
     "data": {
      "text/plain": [
       "100"
      ]
     },
     "execution_count": 62,
     "metadata": {},
     "output_type": "execute_result"
    }
   ],
   "source": [
    "rank = (S > 1e-2).sum()\n",
    "rank"
   ]
  },
  {
   "cell_type": "markdown",
   "metadata": {},
   "source": [
    "It seems that the matrix $H$ has a full rank, which actually seems pretty resonable to assume."
   ]
  },
  {
   "cell_type": "code",
   "execution_count": 70,
   "metadata": {},
   "outputs": [
    {
     "data": {
      "text/plain": [
       "(1.179775497956598e-28, 0.11552409541629854, 0.5099118193907034)"
      ]
     },
     "execution_count": 70,
     "metadata": {},
     "output_type": "execute_result"
    }
   ],
   "source": [
    "# Check for convergence\n",
    "f_infty = U @ Vh @ y3\n",
    "((y3 - f_infty)**2).sum(), ((ftX - f_infty)**2).sum(), ((ftuX - f_infty)**2).sum()"
   ]
  },
  {
   "cell_type": "code",
   "execution_count": 228,
   "metadata": {},
   "outputs": [
    {
     "data": {
      "text/plain": [
       "(100, 100, 100)"
      ]
     },
     "execution_count": 228,
     "metadata": {},
     "output_type": "execute_result"
    }
   ],
   "source": [
    "kernel_rank(X,ker_W), kernel_rank(X,ker_V), kernel_rank(X,ker_u)"
   ]
  },
  {
   "cell_type": "markdown",
   "metadata": {},
   "source": [
    "## Conv Layer NTK"
   ]
  },
  {
   "cell_type": "markdown",
   "metadata": {},
   "source": [
    "### Theory"
   ]
  },
  {
   "cell_type": "markdown",
   "metadata": {},
   "source": [
    "We will assume the following network:\n",
    "$$f(x) = u^T \\sigma(v * \\sigma(w * x))$$\n",
    "where $v,w$ is a convolution kernel with infinte number of channles, $[*]$ is the convolution operator, and sigma is also flatten."
   ]
  },
  {
   "cell_type": "markdown",
   "metadata": {},
   "source": [
    "We will assume that $x\\in\\mathbb{R}^{N\\times M}$, but we will sometimes denote it as $x\\in\\mathbb{R}^{NM}$, depanding on the scenario.\n",
    "Also, $w,v\\in\\mathbb{R}^{r\\times r}$ and $u\\in\\mathbb{R}^{NM}$."
   ]
  },
  {
   "cell_type": "markdown",
   "metadata": {},
   "source": [
    "Some more notions: we denote $[x]^{i,j}$ the indentation of $x$ $i$ times to the left and $j$ times down.\n",
    "we denote $(w)^{i,j}$ a matrix of size $N\\times M$ where $w$ is centered at $(i,j)$ and the rest is 0's."
   ]
  },
  {
   "cell_type": "markdown",
   "metadata": {},
   "source": [
    "In the above case we have:\n",
    "$$ \\frac{df(x)}{dw_{ij}} =\n",
    "u^T \\cdot diag(\\dot\\sigma(v*\\sigma(w*x)))\\cdot\\{(v)^{k,l}\\}_{k,l} \\cdot diag(\\dot\\sigma(w*x))\\cdot[x]^{ij} $$\n",
    "where $[x]^{ij}$, $\\cdot diag(\\dot\\sigma(w*x))$, $(v)^{k,l}$ and $\\dot\\sigma(v*\\sigma(w*x))$ are flatten and\n",
    "$\\{(v)^{k,l}\\}_{k,l}$ is a $NM\\times NM$ matrix which in the $(kl)$ column contains a flatten version of $(v)^{k,l}$."
   ]
  },
  {
   "cell_type": "markdown",
   "metadata": {},
   "source": [
    "#### Two layers case:"
   ]
  },
  {
   "cell_type": "markdown",
   "metadata": {},
   "source": [
    "If $f(x) = u^T \\sigma(w * x)$ then we have:\n",
    "$$ \\frac{df}{du} = \\sigma(w*x)$$\n",
    "and\n",
    "$$ \\frac{df}{dw_{ij}} = u^T \\cdot diag(\\dot\\sigma(w*x)) \\cdot [x]^{ij} $$\n",
    "where both $[x]^{ij}$ and $\\dot\\sigma(w*x)$ are flatten."
   ]
  },
  {
   "cell_type": "markdown",
   "metadata": {},
   "source": [
    "For the infinte-channels case we have:\n"
   ]
  },
  {
   "cell_type": "markdown",
   "metadata": {},
   "source": [
    "### Experiments - Two Layers"
   ]
  },
  {
   "cell_type": "code",
   "execution_count": 44,
   "metadata": {},
   "outputs": [],
   "source": [
    "# Get the data\n",
    "from keras import datasets\n",
    "(trainX, trainy), (testX, testy) = datasets.cifar10.load_data()\n",
    "# normalize the data\n",
    "trainX_norm = trainX.astype(np.float32).mean(axis=3) / 255 - 0.5\n",
    "testX_norm = testX.astype(np.float32).mean(axis=3) / 255 - 0.5"
   ]
  },
  {
   "cell_type": "code",
   "execution_count": 45,
   "metadata": {},
   "outputs": [],
   "source": [
    "digit1 = 2\n",
    "digit2 = 6\n",
    "m = 100\n",
    "m_test = 1000\n",
    "\n",
    "digit1_idx = np.where(trainy == digit1)[0][:m]\n",
    "digit2_idx = np.where(trainy == digit2)[0][:m]\n",
    "idxs = np.concatenate((digit1_idx, digit2_idx))\n",
    "data_train_X = trainX_norm[idxs, :, :]\n",
    "data_train_y = np.squeeze((trainy[idxs] == digit1).astype(int)*2 - 1)\n",
    "\n",
    "digit1_idx = np.where(testy == digit1)[0][:m]\n",
    "digit2_idx = np.where(testy == digit2)[0][:m]\n",
    "idxs = np.concatenate((digit1_idx, digit2_idx))\n",
    "data_test_X = testX_norm[idxs, :, :]\n",
    "data_test_y = np.squeeze((testy[idxs] == digit1).astype(int)*2 - 1)"
   ]
  },
  {
   "cell_type": "code",
   "execution_count": 46,
   "metadata": {},
   "outputs": [],
   "source": [
    "def build_H_2D (X, ker, filter_size):\n",
    "    m = X.shape[0]\n",
    "    H = np.zeros((m,m))\n",
    "    for i in range(m):\n",
    "        x1 = X[i,:,:]\n",
    "        for j in range(m):\n",
    "            x2 = X[j,:,:]\n",
    "            H[i,j] = ker(x1, x2, filter_size)\n",
    "    return H"
   ]
  },
  {
   "cell_type": "code",
   "execution_count": 47,
   "metadata": {},
   "outputs": [],
   "source": [
    "def run_GD_2D (X, y, X_test, y_test, f0, ker, filter_size, gd_steps=50, learning_rate=1e-2):\n",
    "    m = X.shape[0]\n",
    "    vt = np.zeros(m)\n",
    "    ker_X = lambda x: np.array([ker(x, X[i,:,:], filter_size) for i in range(m)])\n",
    "    f0_X = f0(X)\n",
    "    ft_X = f0_X\n",
    "    H = build_H_2D(X, ker, filter_size)\n",
    "    err_train = np.zeros(gd_steps+1)\n",
    "    err_test = np.zeros(gd_steps+1)\n",
    "    err_train[0] = calc_error(f0, X, y)\n",
    "    err_test[0] = calc_error(f0, X_test, y_test)\n",
    "\n",
    "    for t in tqdm(range(gd_steps)):\n",
    "        vt += ft_X - y\n",
    "        ft_X = f0_X - learning_rate * (H @ vt)\n",
    "\n",
    "        ft = lambda A: np.array(f0(A) - [learning_rate * (ker_X(A[i,:,:]).T @ vt) for i in range(A.shape[0])])\n",
    "        err_train[t+1] = calc_error(ft, X, y)\n",
    "        err_test[t+1] = calc_error(ft, X_test, y_test)\n",
    "        \n",
    "    return ft, err_train, err_test"
   ]
  },
  {
   "cell_type": "code",
   "execution_count": 48,
   "metadata": {},
   "outputs": [],
   "source": [
    "def ker_conv_w (x1, x2, r):\n",
    "    filt = np.ones((r,r))\n",
    "    conv_x1_sq = signal.convolve2d(x1**2, filt, mode='same', boundary='symm')\n",
    "    conv_x2_sq = signal.convolve2d(x2**2, filt, mode='same', boundary='symm')\n",
    "    conv_x1_x2 = signal.convolve2d(x1*x2, filt, mode='same', boundary='symm')\n",
    "    rho = np.maximum(np.minimum(conv_x1_x2 / np.sqrt(conv_x1_sq) / np.sqrt(conv_x2_sq), 1), -1)\n",
    "    \n",
    "    vec = expectation_drelu_normalized(rho) * conv_x1_x2\n",
    "    res = vec.sum() / x1.size / 2\n",
    "    return res"
   ]
  },
  {
   "cell_type": "code",
   "execution_count": 49,
   "metadata": {},
   "outputs": [],
   "source": [
    "def ker_conv_u (x1, x2, r):\n",
    "    filt = np.ones((r,r))\n",
    "    conv_x1_sq = signal.convolve2d(x1**2, filt, mode='same', boundary='symm')\n",
    "    conv_x2_sq = signal.convolve2d(x2**2, filt, mode='same', boundary='symm')\n",
    "    conv_x1_x2 = signal.convolve2d(x1*x2, filt, mode='same', boundary='symm')\n",
    "    rho = np.maximum(np.minimum(conv_x1_x2 / np.sqrt(conv_x1_sq) / np.sqrt(conv_x2_sq), 1), -1)\n",
    "    \n",
    "    vec = expectation_relu_normalized(rho)\n",
    "    res = vec.sum() * r**2 / x1.size / 2\n",
    "    return res"
   ]
  },
  {
   "cell_type": "code",
   "execution_count": 218,
   "metadata": {},
   "outputs": [
    {
     "data": {
      "text/plain": [
       "((200,), (200, 1))"
      ]
     },
     "execution_count": 218,
     "metadata": {},
     "output_type": "execute_result"
    }
   ],
   "source": [
    "f0_X. shape, data_train_y.shape"
   ]
  },
  {
   "cell_type": "code",
   "execution_count": 222,
   "metadata": {},
   "outputs": [
    {
     "data": {
      "application/vnd.jupyter.widget-view+json": {
       "model_id": "c51d6c4ad0054cc188f5a67e605e6425",
       "version_major": 2,
       "version_minor": 0
      },
      "text/plain": [
       "  0%|          | 0/150 [00:00<?, ?it/s]"
      ]
     },
     "metadata": {},
     "output_type": "display_data"
    },
    {
     "data": {
      "image/png": "[encoded data removed]",
      "text/plain": [
       "<Figure size 432x288 with 1 Axes>"
      ]
     },
     "metadata": {
      "needs_background": "light"
     },
     "output_type": "display_data"
    },
    {
     "name": "stdout",
     "output_type": "stream",
     "text": [
      "Wall time: 58min 22s\n"
     ]
    }
   ],
   "source": [
    "%%time\n",
    "\n",
    "filter_size = 3\n",
    "f0 = lambda A: np.zeros(A.shape[0])\n",
    "ker_conv = lambda x1, x2, r: ker_conv_w(x1,x2,r) + ker_conv_u(x1,x2,r)\n",
    "\n",
    "ft_conv, err_train_conv, err_test_conv = run_GD_2D(data_train_X, data_train_y,\n",
    "                                                   data_test_X, data_test_y,\n",
    "                                                   f0, ker_conv, filter_size, gd_steps=150)\n",
    "\n",
    "plt.plot(err_train_conv)\n",
    "plt.plot(err_test_conv)\n",
    "plt.xlabel('epoch')\n",
    "plt.ylabel('error')\n",
    "plt.legend({'train','test'})\n",
    "plt.show()"
   ]
  },
  {
   "cell_type": "code",
   "execution_count": 223,
   "metadata": {},
   "outputs": [
    {
     "data": {
      "application/vnd.jupyter.widget-view+json": {
       "model_id": "06ba0c6d8ce44897b5369a22a0553488",
       "version_major": 2,
       "version_minor": 0
      },
      "text/plain": [
       "  0%|          | 0/150 [00:00<?, ?it/s]"
      ]
     },
     "metadata": {},
     "output_type": "display_data"
    },
    {
     "data": {
      "image/png": "[encoded data removed]",
      "text/plain": [
       "<Figure size 432x288 with 1 Axes>"
      ]
     },
     "metadata": {
      "needs_background": "light"
     },
     "output_type": "display_data"
    },
    {
     "name": "stdout",
     "output_type": "stream",
     "text": [
      "Wall time: 28min 48s\n"
     ]
    }
   ],
   "source": [
    "%%time\n",
    "\n",
    "filter_size = 3\n",
    "f0 = lambda A: np.zeros(A.shape[0])\n",
    "\n",
    "ft_conv_w, err_train_conv_w, err_test_conv_w = run_GD_2D(data_train_X, data_train_y,\n",
    "                                                         data_test_X, data_test_y,\n",
    "                                                         f0, ker_conv_w, filter_size, gd_steps=150)\n",
    "\n",
    "plt.plot(err_train_conv_w)\n",
    "plt.plot(err_test_conv_w)\n",
    "plt.xlabel('epoch')\n",
    "plt.ylabel('error')\n",
    "plt.legend({'train','test'})\n",
    "plt.show()"
   ]
  },
  {
   "cell_type": "code",
   "execution_count": 224,
   "metadata": {},
   "outputs": [
    {
     "data": {
      "application/vnd.jupyter.widget-view+json": {
       "model_id": "07e32414dc224ab3864331e5e6e14ed9",
       "version_major": 2,
       "version_minor": 0
      },
      "text/plain": [
       "  0%|          | 0/150 [00:00<?, ?it/s]"
      ]
     },
     "metadata": {},
     "output_type": "display_data"
    },
    {
     "data": {
      "image/png": "[encoded data removed]",
      "text/plain": [
       "<Figure size 432x288 with 1 Axes>"
      ]
     },
     "metadata": {
      "needs_background": "light"
     },
     "output_type": "display_data"
    },
    {
     "name": "stdout",
     "output_type": "stream",
     "text": [
      "Wall time: 58min 43s\n"
     ]
    }
   ],
   "source": [
    "%%time\n",
    "\n",
    "filter_size = 3\n",
    "\n",
    "ft_conv_u, err_train_conv_u, err_test_conv_u = run_GD_2D(data_train_X, data_train_y,\n",
    "                                                         data_test_X, data_test_y,\n",
    "                                                         ft_conv_w, ker_conv_u, filter_size, gd_steps=150)\n",
    "\n",
    "plt.plot(err_train_conv_u)\n",
    "plt.plot(err_test_conv_u)\n",
    "plt.xlabel('epoch')\n",
    "plt.ylabel('error')\n",
    "plt.legend({'train','test'})\n",
    "plt.show()"
   ]
  },
  {
   "cell_type": "code",
   "execution_count": 225,
   "metadata": {},
   "outputs": [
    {
     "data": {
      "text/plain": [
       "(0.3762728569749099, 0.6135956262637043, 0.3833686658329378)"
      ]
     },
     "execution_count": 225,
     "metadata": {},
     "output_type": "execute_result"
    }
   ],
   "source": [
    "# Compare - train\n",
    "err_train_conv[-1], err_train_conv_w[-1], err_train_conv_u[-1]"
   ]
  },
  {
   "cell_type": "code",
   "execution_count": 226,
   "metadata": {},
   "outputs": [
    {
     "data": {
      "text/plain": [
       "(0.8235793762839466, 0.8600391143392088, 0.8318063329632843)"
      ]
     },
     "execution_count": 226,
     "metadata": {},
     "output_type": "execute_result"
    }
   ],
   "source": [
    "# Compare - test\n",
    "err_test_conv[-1], err_test_conv_w[-1], err_test_conv_u[-1]"
   ]
  },
  {
   "cell_type": "code",
   "execution_count": null,
   "metadata": {},
   "outputs": [
    {
     "data": {
      "application/vnd.jupyter.widget-view+json": {
       "model_id": "1765b28d9b6a44ec920b1aafd0bbec22",
       "version_major": 2,
       "version_minor": 0
      },
      "text/plain": [
       "  0%|          | 0/150 [00:00<?, ?it/s]"
      ]
     },
     "metadata": {},
     "output_type": "display_data"
    }
   ],
   "source": [
    "%%time\n",
    "\n",
    "# Only the last layer\n",
    "f0 = lambda A: np.zeros(A.shape[0])\n",
    "filter_size = 3\n",
    "\n",
    "ft_conv_u_only, err_train_conv_u_only, err_test_conv_u_only = run_GD_2D(data_train_X, data_train_y,\n",
    "                                                         data_test_X, data_test_y,\n",
    "                                                         f0, ker_conv_u, filter_size, gd_steps=150)\n",
    "\n",
    "plt.plot(err_train_conv_u_only)\n",
    "plt.plot(err_test_conv_u_only)\n",
    "plt.xlabel('epoch')\n",
    "plt.ylabel('error')\n",
    "plt.legend({'train','test'})\n",
    "plt.show()"
   ]
  },
  {
   "cell_type": "code",
   "execution_count": null,
   "metadata": {},
   "outputs": [],
   "source": [
    "err_train_conv_u_only[-1], err_test_conv_u_only[-1]"
   ]
  },
  {
   "cell_type": "markdown",
   "metadata": {},
   "source": [
    "### Verify Derivative - Conv"
   ]
  },
  {
   "cell_type": "markdown",
   "metadata": {},
   "source": [
    "Verifying that the implicit and explicit kernels are the same:"
   ]
  },
  {
   "cell_type": "code",
   "execution_count": 200,
   "metadata": {},
   "outputs": [
    {
     "data": {
      "application/vnd.jupyter.widget-view+json": {
       "model_id": "c16e07602e3d4cf0803eb5fda700ed27",
       "version_major": 2,
       "version_minor": 0
      },
      "text/plain": [
       "  0%|          | 0/10000 [00:00<?, ?it/s]"
      ]
     },
     "metadata": {},
     "output_type": "display_data"
    }
   ],
   "source": [
    "x1 = data_train_X[70,:,:]\n",
    "x2 = data_train_X[130,:,:]\n",
    "\n",
    "reps = 10000 # number of repetitions\n",
    "r = 3 # filter size\n",
    "\n",
    "mean_val = 0\n",
    "mean_sq = 0\n",
    "inner_p = 0\n",
    "np.random.seed(100)\n",
    "\n",
    "for i in tqdm(range(reps)):\n",
    "    w = np.random.randn(r,r) / r\n",
    "    c1 = signal.convolve2d(x1, w, mode='same', boundary='symm')\n",
    "    c2 = signal.convolve2d(x2, w, mode='same', boundary='symm')\n",
    "    \n",
    "    mean_val += c1.mean() / reps\n",
    "    mean_sq += (c1**2).mean() / reps\n",
    "    inner_p += (relu(c1) * relu(c2)).sum() / reps\n",
    "    \n",
    "manual_ker = inner_p * r**2 / x1.size / 2\n",
    "auto_ker = ker_conv_u(x1, x2, r)"
   ]
  },
  {
   "cell_type": "code",
   "execution_count": 201,
   "metadata": {},
   "outputs": [
    {
     "name": "stdout",
     "output_type": "stream",
     "text": [
      "Expectation: -0.0007945290713538152\n",
      "Variance: 0.026664302993261318 0.027124796\n"
     ]
    },
    {
     "data": {
      "text/plain": [
       "(0.031205479706198316, 0.3284826919278748)"
      ]
     },
     "execution_count": 201,
     "metadata": {},
     "output_type": "execute_result"
    }
   ],
   "source": [
    "# Verification:\n",
    "print('Expectation:', mean_val) # should be approximatly 0\n",
    "print('Variance:', mean_sq - mean_val**2, (x1**2).mean()) # should be approximatly (x1**2).mean()\n",
    "manual_ker, auto_ker # should be approximatly similar"
   ]
  },
  {
   "cell_type": "markdown",
   "metadata": {},
   "source": [
    "Verify that this is indeed the correct kernel, using the following:\n",
    "$$ f(x;v_2) - f(x;v_1) = \\int_{v_1}^{v_2} \\frac{df(x)}{dv} dv. $$"
   ]
  },
  {
   "cell_type": "code",
   "execution_count": 210,
   "metadata": {},
   "outputs": [],
   "source": [
    "np.random.seed(0)\n",
    "w = np.random.randn(r,r)\n",
    "u_naive = np.ones(x1.size)\n",
    "u_start = -2\n",
    "u_end = 4\n",
    "ratio = r / np.sqrt(x1.size * 2)\n",
    "\n",
    "f1 = np.inner(u_start * u_naive, relu(signal.convolve2d(x1, w, mode='same', boundary='symm')).flatten() / r) * ratio\n",
    "f2 = np.inner(u_end * u_naive, relu(signal.convolve2d(x1, w, mode='same', boundary='symm')).flatten() / r) * ratio\n",
    "\n",
    "integral = relu(signal.convolve2d(x1, w, mode='same', boundary='symm') / r).sum() * ratio * (u_end - u_start)"
   ]
  },
  {
   "cell_type": "code",
   "execution_count": 211,
   "metadata": {},
   "outputs": [
    {
     "data": {
      "text/plain": [
       "(2.257939857250215, 2.257939857250215)"
      ]
     },
     "execution_count": 211,
     "metadata": {},
     "output_type": "execute_result"
    }
   ],
   "source": [
    "# compare:\n",
    "f2 - f1, integral"
   ]
  },
  {
   "cell_type": "markdown",
   "metadata": {},
   "source": [
    "#### Kernel Rank"
   ]
  },
  {
   "cell_type": "code",
   "execution_count": 229,
   "metadata": {},
   "outputs": [],
   "source": [
    "def kernel_rank_2D (X, ker, r, threshold=1e-3):\n",
    "    \"\"\"\n",
    "    Return the rank of the matrix H that is defined by the kernel\n",
    "    \"\"\"\n",
    "    H = build_H_2D(X, ker, r)\n",
    "    [_,S,_] = np.linalg.svd(H)\n",
    "    return (S > threshold).sum()"
   ]
  },
  {
   "cell_type": "code",
   "execution_count": 230,
   "metadata": {},
   "outputs": [
    {
     "data": {
      "text/plain": [
       "(200, 200)"
      ]
     },
     "execution_count": 230,
     "metadata": {},
     "output_type": "execute_result"
    }
   ],
   "source": [
    "kernel_rank_2D(data_train_X, ker_conv_w, r), kernel_rank_2D(data_train_X, ker_conv_u, r)"
   ]
  },
  {
   "cell_type": "code",
   "execution_count": null,
   "metadata": {},
   "outputs": [],
   "source": []
  }
 ],
 "metadata": {
  "kernelspec": {
   "display_name": "Python 3",
   "language": "python",
   "name": "python3"
  },
  "language_info": {
   "codemirror_mode": {
    "name": "ipython",
    "version": 3
   },
   "file_extension": ".py",
   "mimetype": "text/x-python",
   "name": "python",
   "nbconvert_exporter": "python",
   "pygments_lexer": "ipython3",
   "version": "3.8.6"
  }
 },
 "nbformat": 4,
 "nbformat_minor": 4
}
