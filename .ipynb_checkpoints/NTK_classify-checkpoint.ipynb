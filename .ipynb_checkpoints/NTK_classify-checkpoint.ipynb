{
 "cells": [
  {
   "cell_type": "markdown",
   "metadata": {},
   "source": [
    "# Learning Using NTK - v2.0"
   ]
  },
  {
   "cell_type": "code",
   "execution_count": 1,
   "metadata": {},
   "outputs": [],
   "source": [
    "#Autocomplete\n",
    "%config Completer.use_jedi = False"
   ]
  },
  {
   "cell_type": "code",
   "execution_count": 2,
   "metadata": {},
   "outputs": [
    {
     "name": "stdout",
     "output_type": "stream",
     "text": [
      "Wall time: 0 ns\n"
     ]
    }
   ],
   "source": [
    "%matplotlib inline\n",
    "%time\n",
    "\n",
    "import numpy as np\n",
    "import matplotlib.pyplot as plt\n",
    "import os, time, glob\n",
    "from tqdm.notebook import tqdm\n",
    "from sklearn import svm\n",
    "from scipy import signal"
   ]
  },
  {
   "cell_type": "markdown",
   "metadata": {},
   "source": [
    "## Fully Connected"
   ]
  },
  {
   "cell_type": "markdown",
   "metadata": {},
   "source": [
    "Here we do not assume the width to go to infinty. Instead we fix $H_0$ using its parameters, and learning a convex optimization problem."
   ]
  },
  {
   "cell_type": "markdown",
   "metadata": {},
   "source": [
    "More specifically, let $g(x)= \\frac{df(x;\\theta)}{d\\theta}$, then let's learn a linear separator (using SVM) on $g(x)$."
   ]
  },
  {
   "cell_type": "markdown",
   "metadata": {},
   "source": [
    "Here we will assume a three-layer fully-connected network:\n",
    "$$ f(x) = sign(u^T \\sigma (V \\sigma (Wx)))$$\n",
    "and compute $g$ for each layer separately."
   ]
  },
  {
   "cell_type": "markdown",
   "metadata": {},
   "source": [
    "In three layers we have:\n",
    "$$ \\frac{df}{dW} = u^T diag(\\dot\\sigma(V\\sigma(Wx))) V diag(\\dot\\sigma(Wx))\\cdot(I_d \\otimes x)$$\n",
    "$$ \\frac{df}{dV} = u^T diag(\\dot\\sigma(V\\sigma(Wx)))\\cdot(I_d\\otimes \\sigma(Wx))$$\n",
    "$$ \\frac{df}{du} = \\sigma(V\\sigma(Wx))$$"
   ]
  },
  {
   "cell_type": "markdown",
   "metadata": {},
   "source": [
    "### Experiments"
   ]
  },
  {
   "cell_type": "code",
   "execution_count": 3,
   "metadata": {},
   "outputs": [],
   "source": [
    "relu = lambda A: np.maximum(A, 0)\n",
    "drelu = lambda A: (A > 0).astype(np.float)\n",
    "sgn = lambda A: (A > 0).astype(np.float)*2 - 1\n",
    "sgn01 = lambda A: (A > 0).astype(np.float)"
   ]
  },
  {
   "cell_type": "code",
   "execution_count": 4,
   "metadata": {},
   "outputs": [],
   "source": [
    "def calc_zero_one_error (y_est, y):\n",
    "    return (y_est != y).mean()"
   ]
  },
  {
   "cell_type": "code",
   "execution_count": 5,
   "metadata": {},
   "outputs": [],
   "source": [
    "def calc_zero_one_network_error (X, y, u, V, W):\n",
    "    y_est = sgn(u.T @ relu(V @ relu(W @ X))).T\n",
    "    return calc_zero_one_error(y_est, y)"
   ]
  },
  {
   "cell_type": "code",
   "execution_count": 6,
   "metadata": {},
   "outputs": [],
   "source": [
    "d = 25\n",
    "m = 100\n",
    "m_test = 100000\n",
    "\n",
    "# ground truth\n",
    "np.random.seed(124)\n",
    "X = np.random.randn(d, m)\n",
    "X_test = np.random.randn(d, m_test)\n",
    "W_real = np.random.randn(d, d) / np.sqrt(d)\n",
    "V_real = np.random.randn(d, d) / np.sqrt(d)\n",
    "u_real = np.random.randn(d, 1) / np.sqrt(d)\n",
    "y = sgn01(u_real.T @ relu(V_real @ relu(W_real @ X))).T\n",
    "y_test = sgn01(u_real.T @ relu(V_real @ relu(W_real @ X_test))).T"
   ]
  },
  {
   "cell_type": "code",
   "execution_count": 7,
   "metadata": {},
   "outputs": [],
   "source": [
    "def map_to_df_dW(X, u, V, W):\n",
    "    m = X.shape[1]\n",
    "    out = np.zeros((W.size, m))\n",
    "    for s in range(m):\n",
    "        x = X[:,s]\n",
    "        a = drelu(V @ relu(W @ x))\n",
    "        b = drelu(W @ x)\n",
    "        c = np.tensordot(a,b,axes=0) * V\n",
    "        d = np.squeeze(u.T @ c)\n",
    "        res = np.ndarray.flatten(np.tensordot(d,x,axes=0))\n",
    "        \n",
    "        out[:, s] = res\n",
    "    return out"
   ]
  },
  {
   "cell_type": "code",
   "execution_count": 8,
   "metadata": {},
   "outputs": [],
   "source": [
    "def map_to_df_dV(X, u, V, W):\n",
    "    m = X.shape[1]\n",
    "    out = np.zeros((W.size, m))\n",
    "    for s in range(m):\n",
    "        x = X[:,s]\n",
    "        a = drelu(V @ relu(W @ x))\n",
    "        b = relu(W @ x)\n",
    "        c = np.squeeze(u) * np.squeeze(a)\n",
    "        d = np.tensordot(c,b,axes=0)\n",
    "        res = np.ndarray.flatten(d)\n",
    "        \n",
    "        out[:, s] = res\n",
    "    return out"
   ]
  },
  {
   "cell_type": "code",
   "execution_count": 9,
   "metadata": {},
   "outputs": [],
   "source": [
    "def map_to_df_du(X, u, V, W):\n",
    "    return relu(V @ relu(W @ X))"
   ]
  },
  {
   "cell_type": "code",
   "execution_count": 10,
   "metadata": {},
   "outputs": [],
   "source": [
    "# Learn W\n",
    "np.random.seed(0)\n",
    "W_0 = np.random.randn(d, d) / np.sqrt(d)\n",
    "V_0 = np.random.randn(d, d) / np.sqrt(d)\n",
    "u_0 = np.random.randn(d, 1) / np.sqrt(d)\n",
    "X_g = map_to_df_dW(X, u_0, V_0, W_0)\n",
    "X_test_g = map_to_df_dW(X_test, u_0, V_0, W_0)"
   ]
  },
  {
   "cell_type": "code",
   "execution_count": 11,
   "metadata": {},
   "outputs": [
    {
     "name": "stdout",
     "output_type": "stream",
     "text": [
      "Wall time: 1.52 s\n"
     ]
    },
    {
     "data": {
      "text/plain": [
       "(0.0, 0.31055)"
      ]
     },
     "execution_count": 11,
     "metadata": {},
     "output_type": "execute_result"
    }
   ],
   "source": [
    "%%time\n",
    "\n",
    "clfW = svm.SVC(kernel='linear', C = 1.0)\n",
    "clfW.fit(X_g.T, np.squeeze(y))\n",
    "\n",
    "train_err = calc_zero_one_error(clfW.predict(X_g.T), np.squeeze(y))\n",
    "test_err = calc_zero_one_error(clfW.predict(X_test_g.T), np.squeeze(y_test))\n",
    "train_err, test_err"
   ]
  },
  {
   "cell_type": "code",
   "execution_count": 12,
   "metadata": {},
   "outputs": [
    {
     "data": {
      "text/plain": [
       "[[0.56, 0.62164],\n",
       " [0.54, 0.61705],\n",
       " [0.71, 0.72973],\n",
       " [0.63, 0.65263],\n",
       " [0.54, 0.60877]]"
      ]
     },
     "execution_count": 12,
     "metadata": {},
     "output_type": "execute_result"
    }
   ],
   "source": [
    "# Check which error to use\n",
    "get_err = lambda W: [calc_zero_one_network_error(X, y, u_0, V_0, W), calc_zero_one_network_error(X_test, y_test, u_0, V_0, W)]\n",
    "W_clf = np.reshape(clfW.coef_,[25,25])\n",
    "[get_err(W_0), get_err(W_clf), get_err(-W_clf), get_err(W_0 * W_clf), get_err(- W_0 * W_clf)]"
   ]
  },
  {
   "cell_type": "markdown",
   "metadata": {},
   "source": [
    "It seems that the parameters I should use for the new W is hyperplane learned by the SVM."
   ]
  },
  {
   "cell_type": "code",
   "execution_count": 13,
   "metadata": {},
   "outputs": [
    {
     "name": "stdout",
     "output_type": "stream",
     "text": [
      "Wall time: 5.01 s\n"
     ]
    },
    {
     "data": {
      "text/plain": [
       "(0.01, 0.3046)"
      ]
     },
     "execution_count": 13,
     "metadata": {},
     "output_type": "execute_result"
    }
   ],
   "source": [
    "%%time\n",
    "\n",
    "# Learn V\n",
    "np.random.seed(1)\n",
    "V_0 = np.random.randn(d, d) / np.sqrt(d)\n",
    "u_0 = np.random.randn(d, 1) / np.sqrt(d)\n",
    "X_g = map_to_df_dV(X, u_0, V_0, W_clf)\n",
    "X_test_g = map_to_df_dV(X_test, u_0, V_0, W_clf)\n",
    "\n",
    "clfV = svm.SVC(kernel='linear', C = 1.0)\n",
    "clfV.fit(X_g.T, np.squeeze(y))\n",
    "\n",
    "train_err = calc_zero_one_error(clfV.predict(X_g.T), np.squeeze(y))\n",
    "test_err = calc_zero_one_error(clfV.predict(X_test_g.T), np.squeeze(y_test))\n",
    "train_err, test_err"
   ]
  },
  {
   "cell_type": "code",
   "execution_count": 14,
   "metadata": {},
   "outputs": [
    {
     "data": {
      "text/plain": [
       "[[0.85, 0.93983],\n",
       " [0.53, 0.62499],\n",
       " [1.0, 0.9799],\n",
       " [0.61, 0.72828],\n",
       " [0.98, 0.9462]]"
      ]
     },
     "execution_count": 14,
     "metadata": {},
     "output_type": "execute_result"
    }
   ],
   "source": [
    "# Check which error to use\n",
    "get_err = lambda V: [calc_zero_one_network_error(X, y, u_0, V, W_clf), calc_zero_one_network_error(X_test, y_test, u_0, V, W_clf)]\n",
    "V_clf = np.reshape(clfV.coef_,[25,25])\n",
    "[get_err(V_0), get_err(V_clf), get_err(-V_clf), get_err(V_0 * V_clf), get_err(- V_0 * V_clf)]"
   ]
  },
  {
   "cell_type": "code",
   "execution_count": 15,
   "metadata": {},
   "outputs": [
    {
     "name": "stdout",
     "output_type": "stream",
     "text": [
      "Wall time: 231 ms\n"
     ]
    },
    {
     "data": {
      "text/plain": [
       "(0.1, 0.30021)"
      ]
     },
     "execution_count": 15,
     "metadata": {},
     "output_type": "execute_result"
    }
   ],
   "source": [
    "%%time\n",
    "\n",
    "# Learn u\n",
    "np.random.seed(2)\n",
    "u_0 = np.random.randn(d, 1) / np.sqrt(d)\n",
    "X_g = map_to_df_du(X, u_0, V_clf, W_clf)\n",
    "X_test_g = map_to_df_du(X_test, u_0, V_clf, W_clf)\n",
    "\n",
    "clfu = svm.SVC(kernel='linear', C = 1.0)\n",
    "clfu.fit(X_g.T, np.squeeze(y))\n",
    "\n",
    "train_err = calc_zero_one_error(clfu.predict(X_g.T), np.squeeze(y))\n",
    "test_err = calc_zero_one_error(clfu.predict(X_test_g.T), np.squeeze(y_test))\n",
    "train_err, test_err"
   ]
  },
  {
   "cell_type": "code",
   "execution_count": 16,
   "metadata": {},
   "outputs": [
    {
     "data": {
      "text/plain": [
       "[[0.87, 0.86383],\n",
       " [0.53, 0.66108],\n",
       " [1.0, 0.92746],\n",
       " [0.6, 0.68879],\n",
       " [0.93, 0.89975]]"
      ]
     },
     "execution_count": 16,
     "metadata": {},
     "output_type": "execute_result"
    }
   ],
   "source": [
    "# Check which error to use\n",
    "get_err = lambda u: [calc_zero_one_network_error(X, y, u, V_clf, W_clf), calc_zero_one_network_error(X_test, y_test, u, V_clf, W_clf)]\n",
    "u_clf = np.reshape(clfu.coef_,[25,1])\n",
    "[get_err(u_0), get_err(u_clf), get_err(-u_clf), get_err(u_0 * u_clf), get_err(- u_0 * u_clf)]"
   ]
  },
  {
   "cell_type": "markdown",
   "metadata": {},
   "source": [
    "## Learning with the Loss"
   ]
  },
  {
   "cell_type": "markdown",
   "metadata": {},
   "source": [
    "Maybe we should not use $g(x)= \\frac{df(x;\\theta)}{d\\theta}$,\n",
    "but rather\n",
    "$$g(x)=-\\frac{d\\ell}{d\\theta} = -\\frac{d\\ell}{df(x;\\theta)} \\cdot \\frac{df(x;\\theta)}{d\\theta}.$$\n",
    "\n",
    "Let's try this."
   ]
  },
  {
   "cell_type": "markdown",
   "metadata": {},
   "source": [
    "We will assume that $y\\in\\{0,1\\}$, hence use the cross entropy loss:\n",
    "$$ \\ell(f, (x,y))=-y \\log f(x) -(1-y)\\log(1-f(x))$$\n",
    "$$ \\frac{d\\ell}{df} = -\\frac{y}{f(x)} + \\frac{1-y}{1-f(x)}. $$"
   ]
  },
  {
   "cell_type": "markdown",
   "metadata": {},
   "source": [
    "Instead of sign, I will use softmax:\n",
    "$$ softmax(f, x) = \\frac{1}{1+\\exp( -f(x))} $$\n",
    "$$ \\frac{d softmax}{df} = softmax(f)(1-softmax(f))$$"
   ]
  },
  {
   "cell_type": "markdown",
   "metadata": {},
   "source": [
    "### Experiments"
   ]
  },
  {
   "cell_type": "code",
   "execution_count": 52,
   "metadata": {},
   "outputs": [],
   "source": [
    "def calc_accuracy (y_est, y):\n",
    "    return ((y>0.5)==(y_test>0.5)).astype(np.float).mean()"
   ]
  },
  {
   "cell_type": "code",
   "execution_count": 53,
   "metadata": {},
   "outputs": [],
   "source": [
    "def calc_network_accuracy (X, y, u, V, W):\n",
    "    y_est = calc_softmax_network (X, u, V, W)\n",
    "    return calc_accuracy(y_est, y)"
   ]
  },
  {
   "cell_type": "code",
   "execution_count": 45,
   "metadata": {},
   "outputs": [],
   "source": [
    "def calc_crossentropy_error (y_est, y):\n",
    "    return (-y * np.log(y_est) - (1-y) * np.log(1-y_est)).mean()"
   ]
  },
  {
   "cell_type": "code",
   "execution_count": 18,
   "metadata": {},
   "outputs": [],
   "source": [
    "def calc_crossentropy_network_error (X, y, u, V, W):\n",
    "    y_est = calc_softmax_network (X, u, V, W)\n",
    "    return calc_crossentropy_error(y_est, y)"
   ]
  },
  {
   "cell_type": "code",
   "execution_count": 19,
   "metadata": {},
   "outputs": [],
   "source": [
    "def calc_gradient_crossentropy_network_error (X, y, u, V, W):\n",
    "    y_est = calc_softmax_network (X, u, V, W)\n",
    "    return np.squeeze(-y / y_est + (1-y)/(1-y_est))"
   ]
  },
  {
   "cell_type": "code",
   "execution_count": 20,
   "metadata": {},
   "outputs": [],
   "source": [
    "def calc_softmax (y):\n",
    "    return (1 + np.exp(-y))**(-1)"
   ]
  },
  {
   "cell_type": "code",
   "execution_count": 21,
   "metadata": {},
   "outputs": [],
   "source": [
    "def calc_softmax_network (X, u, V, W):\n",
    "    y_est = (u.T @ relu(V @ relu(W @ X))).T\n",
    "    return calc_softmax(y_est)"
   ]
  },
  {
   "cell_type": "code",
   "execution_count": 22,
   "metadata": {},
   "outputs": [],
   "source": [
    "def calc_gradient_softmax_network (X, u, V, W):\n",
    "    softmax = calc_softmax_network(X, u, V, W)\n",
    "    return np.squeeze(softmax * (1 - softmax))"
   ]
  },
  {
   "cell_type": "code",
   "execution_count": 23,
   "metadata": {},
   "outputs": [
    {
     "name": "stdout",
     "output_type": "stream",
     "text": [
      "Wall time: 8.54 s\n"
     ]
    },
    {
     "data": {
      "text/plain": [
       "(0.0, 0.10697)"
      ]
     },
     "execution_count": 23,
     "metadata": {},
     "output_type": "execute_result"
    }
   ],
   "source": [
    "%%time\n",
    "\n",
    "# Learn W\n",
    "np.random.seed(0)\n",
    "W_0 = np.random.randn(d, d) / np.sqrt(d)\n",
    "V_0 = np.random.randn(d, d) / np.sqrt(d)\n",
    "u_0 = np.random.randn(d, 1) / np.sqrt(d)\n",
    "X_g = -map_to_df_dW(X, u_0, V_0, W_0) * \\\n",
    "      calc_gradient_crossentropy_network_error(X, y, u_0, V_0, W_0) * \\\n",
    "      calc_gradient_softmax_network(X, u_0, V_0, W_0)\n",
    "X_test_g = -map_to_df_dW(X_test, u_0, V_0, W_0) * \\\n",
    "           calc_gradient_crossentropy_network_error(X_test, y_test, u_0, V_0, W_0) * \\\n",
    "           calc_gradient_softmax_network(X_test, u_0, V_0, W_0)\n",
    "\n",
    "clfW = svm.SVC(kernel='linear', C = 1.0)\n",
    "clfW.fit(X_g.T, np.squeeze(y))\n",
    "\n",
    "train_err = calc_zero_one_error(clfW.predict(X_g.T), np.squeeze(y))\n",
    "test_err = calc_zero_one_error(clfW.predict(X_test_g.T), np.squeeze(y_test))\n",
    "train_err, test_err"
   ]
  },
  {
   "cell_type": "code",
   "execution_count": 24,
   "metadata": {},
   "outputs": [
    {
     "data": {
      "text/plain": [
       "[[0.7735587873306053, 0.8269217247399877],\n",
       " [0.9556829708607155, 0.9155564152649397],\n",
       " [1.0619012358469322, 1.1083398361947447],\n",
       " [0.7234202374566325, 0.7367440350418276],\n",
       " [0.7194082871290834, 0.7643433885337264]]"
      ]
     },
     "execution_count": 24,
     "metadata": {},
     "output_type": "execute_result"
    }
   ],
   "source": [
    "# Check which error to use\n",
    "get_err = lambda W: [calc_crossentropy_network_error(X, y, u_0, V_0, W), calc_crossentropy_network_error(X_test, y_test, u_0, V_0, W)]\n",
    "W_clf = np.reshape(clfW.coef_,[25,25])\n",
    "[get_err(W_0), get_err(W_clf), get_err(-W_clf), get_err(W_0 * W_clf), get_err(- W_0 * W_clf)]"
   ]
  },
  {
   "cell_type": "code",
   "execution_count": 25,
   "metadata": {},
   "outputs": [
    {
     "name": "stdout",
     "output_type": "stream",
     "text": [
      "Wall time: 5.7 s\n"
     ]
    },
    {
     "data": {
      "text/plain": [
       "(0.0, 9e-05)"
      ]
     },
     "execution_count": 25,
     "metadata": {},
     "output_type": "execute_result"
    }
   ],
   "source": [
    "%%time\n",
    "\n",
    "# Learn V\n",
    "np.random.seed(1)\n",
    "V_0 = np.random.randn(d, d) / np.sqrt(d)\n",
    "u_0 = np.random.randn(d, 1) / np.sqrt(d)\n",
    "X_g = -map_to_df_dV(X, u_0, V_0, W_clf) * \\\n",
    "      calc_gradient_crossentropy_network_error(X, y, u_0, V_0, W_clf) * \\\n",
    "      calc_gradient_softmax_network(X, u_0, V_0, W_clf)\n",
    "X_test_g = -map_to_df_dV(X_test, u_0, V_0, W_clf) * \\\n",
    "      calc_gradient_crossentropy_network_error(X_test, y_test, u_0, V_0, W_clf) * \\\n",
    "      calc_gradient_softmax_network(X_test, u_0, V_0, W_clf)\n",
    "\n",
    "clfV = svm.SVC(kernel='linear', C = 1.0)\n",
    "clfV.fit(X_g.T, np.squeeze(y))\n",
    "\n",
    "train_err = calc_zero_one_error(clfV.predict(X_g.T), np.squeeze(y))\n",
    "test_err = calc_zero_one_error(clfV.predict(X_test_g.T), np.squeeze(y_test))\n",
    "train_err, test_err"
   ]
  },
  {
   "cell_type": "code",
   "execution_count": 26,
   "metadata": {},
   "outputs": [
    {
     "data": {
      "text/plain": [
       "[[0.7022235475964617, 0.7029519032798167],\n",
       " [0.911614304661336, 0.9137502982240604],\n",
       " [1.3282715319325837, 1.0853872362318413],\n",
       " [0.6955969378998214, 0.6996524218687739],\n",
       " [0.6906540790965876, 0.6844241064834587]]"
      ]
     },
     "execution_count": 26,
     "metadata": {},
     "output_type": "execute_result"
    }
   ],
   "source": [
    "# Check which error to use\n",
    "get_err = lambda V: [calc_crossentropy_network_error(X, y, u_0, V, W_clf), calc_crossentropy_network_error(X_test, y_test, u_0, V, W_clf)]\n",
    "V_clf = np.reshape(clfV.coef_,[25,25])\n",
    "[get_err(V_0), get_err(V_clf), get_err(-V_clf), get_err(V_0 * V_clf), get_err(- V_0 * V_clf)]"
   ]
  },
  {
   "cell_type": "code",
   "execution_count": 46,
   "metadata": {},
   "outputs": [
    {
     "name": "stdout",
     "output_type": "stream",
     "text": [
      "Wall time: 208 ms\n"
     ]
    },
    {
     "data": {
      "text/plain": [
       "(0.0, 0.0)"
      ]
     },
     "execution_count": 46,
     "metadata": {},
     "output_type": "execute_result"
    }
   ],
   "source": [
    "%%time\n",
    "\n",
    "# Learn u\n",
    "np.random.seed(2)\n",
    "u_0 = np.random.randn(d, 1) / np.sqrt(d)\n",
    "X_g = -map_to_df_du(X, u_0, V_clf, W_clf) * \\\n",
    "      calc_gradient_crossentropy_network_error(X, y, u_0, V_clf, W_clf) * \\\n",
    "      calc_gradient_softmax_network(X, u_0, V_clf, W_clf)\n",
    "X_test_g = -map_to_df_du(X_test, u_0, V_clf, W_clf) * \\\n",
    "      calc_gradient_crossentropy_network_error(X_test, y_test, u_0, V_clf, W_clf) * \\\n",
    "      calc_gradient_softmax_network(X_test, u_0, V_clf, W_clf)\n",
    "\n",
    "clfu = svm.SVC(kernel='linear', C = 1.0)\n",
    "clfu.fit(X_g.T, np.squeeze(y))\n",
    "\n",
    "train_err = calc_zero_one_error(clfu.predict(X_g.T), np.squeeze(y))\n",
    "test_err = calc_zero_one_error(clfu.predict(X_test_g.T), np.squeeze(y_test))\n",
    "train_err, test_err"
   ]
  },
  {
   "cell_type": "code",
   "execution_count": 47,
   "metadata": {},
   "outputs": [
    {
     "data": {
      "text/plain": [
       "[[0.6987858521862165, 0.6980908528280485],\n",
       " [1.6962453058843445, 1.6074531243790908],\n",
       " [1.608182337096487, 1.2670355292063389],\n",
       " [0.6960818375524528, 0.6954257555272835],\n",
       " [0.6904450487731891, 0.6910644139983949]]"
      ]
     },
     "execution_count": 47,
     "metadata": {},
     "output_type": "execute_result"
    }
   ],
   "source": [
    "# Check which error to use\n",
    "get_err = lambda u: [calc_crossentropy_network_error(X, y, u, V_clf, W_clf), calc_crossentropy_network_error(X_test, y_test, u, V_clf, W_clf)]\n",
    "u_clf = np.reshape(clfu.coef_,[25,1])\n",
    "[get_err(u_0), get_err(u_clf), get_err(-u_clf), get_err(u_0 * u_clf), get_err(- u_0 * u_clf)]"
   ]
  },
  {
   "cell_type": "code",
   "execution_count": 50,
   "metadata": {},
   "outputs": [
    {
     "data": {
      "application/vnd.jupyter.widget-view+json": {
       "model_id": "c91afc6e155d445194a763510b9d802e",
       "version_major": 2,
       "version_minor": 0
      },
      "text/plain": [
       "  0%|          | 0/100 [00:00<?, ?it/s]"
      ]
     },
     "metadata": {},
     "output_type": "display_data"
    }
   ],
   "source": [
    "# Loop all\n",
    "iterations = 100\n",
    "\n",
    "np.random.seed(0)\n",
    "W_t = np.random.randn(d, d) / np.sqrt(d)\n",
    "V_t = np.random.randn(d, d) / np.sqrt(d)\n",
    "u_t = np.random.randn(d, 1) / np.sqrt(d)\n",
    "err_train = np.zeros(iterations+1)\n",
    "err_test = np.zeros(iterations+1)\n",
    "\n",
    "err_train[0] = calc_crossentropy_network_error(X, y, u_t, V_t, W_t)\n",
    "err_test[0] = calc_crossentropy_network_error(X_test, y_test, u_t, V_t, W_t)\n",
    "\n",
    "for t in tqdm(range(iterations)):\n",
    "    # Learn W\n",
    "    X_g = map_to_df_dW(X, u_t, V_t, W_t) * \\\n",
    "          calc_gradient_crossentropy_network_error(X, y, u_t, V_t, W_t) * \\\n",
    "          calc_gradient_softmax_network(X, u_t, V_t, W_t)\n",
    "\n",
    "    clfW = svm.SVC(kernel='linear', C = 1.0)\n",
    "    clfW.fit(X_g.T, np.squeeze(y))\n",
    "    W_t = np.reshape(clfW.coef_,[25,25])\n",
    "    \n",
    "    \n",
    "    # Learn V\n",
    "    X_g = map_to_df_dV(X, u_t, V_t, W_t) * \\\n",
    "          calc_gradient_crossentropy_network_error(X, y, u_t, V_t, W_t) * \\\n",
    "          calc_gradient_softmax_network(X, u_t, V_t, W_t)\n",
    "\n",
    "    clfV = svm.SVC(kernel='linear', C = 1.0)\n",
    "    clfV.fit(X_g.T, np.squeeze(y))\n",
    "    V_t = np.reshape(clfV.coef_,[25,25])\n",
    "    \n",
    "    # Learn u\n",
    "    X_g = map_to_df_du(X, u_t, V_t, W_t) * \\\n",
    "          calc_gradient_crossentropy_network_error(X, y, u_t, V_t, W_t) * \\\n",
    "          calc_gradient_softmax_network(X, u_t, V_t, W_t)\n",
    "    \n",
    "    clfu = svm.SVC(kernel='linear', C = 1.0)\n",
    "    clfu.fit(X_g.T, np.squeeze(y))\n",
    "    u_t = np.reshape(clfu.coef_,[25,1])\n",
    "    \n",
    "    err_train[t+1] = calc_crossentropy_network_error(X, y, u_t, V_t, W_t)\n",
    "    err_test[t+1] = calc_crossentropy_network_error(X_test, y_test, u_t, V_t, W_t)\n",
    "    \n",
    "    #print('Iteration %03d. Error train: %f, Error test: %f'%(t,err_train[t+1],err_test[t+1]))\n"
   ]
  },
  {
   "cell_type": "code",
   "execution_count": 51,
   "metadata": {},
   "outputs": [
    {
     "data": {
      "image/png": "[encoded data removed]",
      "text/plain": [
       "<Figure size 432x288 with 1 Axes>"
      ]
     },
     "metadata": {
      "needs_background": "light"
     },
     "output_type": "display_data"
    }
   ],
   "source": [
    "plt.plot(err_train)\n",
    "plt.plot(err_test)\n",
    "plt.xlabel('iterations')\n",
    "plt.ylabel('error')\n",
    "plt.legend({'train','test'})\n",
    "plt.show()"
   ]
  },
  {
   "cell_type": "code",
   "execution_count": 54,
   "metadata": {},
   "outputs": [
    {
     "name": "stderr",
     "output_type": "stream",
     "text": [
      "<ipython-input-52-1d23ccf2d420>:2: DeprecationWarning: elementwise comparison failed; this will raise an error in the future.\n",
      "  return ((y>0.5)==(y_test>0.5)).mean()\n"
     ]
    },
    {
     "ename": "AttributeError",
     "evalue": "'bool' object has no attribute 'mean'",
     "output_type": "error",
     "traceback": [
      "\u001b[1;31m---------------------------------------------------------------------------\u001b[0m",
      "\u001b[1;31mAttributeError\u001b[0m                            Traceback (most recent call last)",
      "\u001b[1;32m<ipython-input-54-c6e450217218>\u001b[0m in \u001b[0;36m<module>\u001b[1;34m\u001b[0m\n\u001b[1;32m----> 1\u001b[1;33m \u001b[0mcalc_network_accuracy\u001b[0m\u001b[1;33m(\u001b[0m\u001b[0mX\u001b[0m\u001b[1;33m,\u001b[0m \u001b[0my\u001b[0m\u001b[1;33m,\u001b[0m \u001b[0mu_t\u001b[0m\u001b[1;33m,\u001b[0m \u001b[0mV_t\u001b[0m\u001b[1;33m,\u001b[0m \u001b[0mW_t\u001b[0m\u001b[1;33m)\u001b[0m\u001b[1;33m,\u001b[0m \u001b[0mcalc_network_accuracy\u001b[0m\u001b[1;33m(\u001b[0m\u001b[0mX_test\u001b[0m\u001b[1;33m,\u001b[0m \u001b[0my_test\u001b[0m\u001b[1;33m,\u001b[0m \u001b[0mu_t\u001b[0m\u001b[1;33m,\u001b[0m \u001b[0mV_t\u001b[0m\u001b[1;33m,\u001b[0m \u001b[0mW_t\u001b[0m\u001b[1;33m)\u001b[0m\u001b[1;33m,\u001b[0m\u001b[1;33m\u001b[0m\u001b[1;33m\u001b[0m\u001b[0m\n\u001b[0m",
      "\u001b[1;32m<ipython-input-53-13b9b3d34a98>\u001b[0m in \u001b[0;36mcalc_network_accuracy\u001b[1;34m(X, y, u, V, W)\u001b[0m\n\u001b[0;32m      1\u001b[0m \u001b[1;32mdef\u001b[0m \u001b[0mcalc_network_accuracy\u001b[0m \u001b[1;33m(\u001b[0m\u001b[0mX\u001b[0m\u001b[1;33m,\u001b[0m \u001b[0my\u001b[0m\u001b[1;33m,\u001b[0m \u001b[0mu\u001b[0m\u001b[1;33m,\u001b[0m \u001b[0mV\u001b[0m\u001b[1;33m,\u001b[0m \u001b[0mW\u001b[0m\u001b[1;33m)\u001b[0m\u001b[1;33m:\u001b[0m\u001b[1;33m\u001b[0m\u001b[1;33m\u001b[0m\u001b[0m\n\u001b[0;32m      2\u001b[0m     \u001b[0my_est\u001b[0m \u001b[1;33m=\u001b[0m \u001b[0mcalc_softmax_network\u001b[0m \u001b[1;33m(\u001b[0m\u001b[0mX\u001b[0m\u001b[1;33m,\u001b[0m \u001b[0mu\u001b[0m\u001b[1;33m,\u001b[0m \u001b[0mV\u001b[0m\u001b[1;33m,\u001b[0m \u001b[0mW\u001b[0m\u001b[1;33m)\u001b[0m\u001b[1;33m\u001b[0m\u001b[1;33m\u001b[0m\u001b[0m\n\u001b[1;32m----> 3\u001b[1;33m     \u001b[1;32mreturn\u001b[0m \u001b[0mcalc_accuracy\u001b[0m\u001b[1;33m(\u001b[0m\u001b[0my_est\u001b[0m\u001b[1;33m,\u001b[0m \u001b[0my\u001b[0m\u001b[1;33m)\u001b[0m\u001b[1;33m\u001b[0m\u001b[1;33m\u001b[0m\u001b[0m\n\u001b[0m",
      "\u001b[1;32m<ipython-input-52-1d23ccf2d420>\u001b[0m in \u001b[0;36mcalc_accuracy\u001b[1;34m(y_est, y)\u001b[0m\n\u001b[0;32m      1\u001b[0m \u001b[1;32mdef\u001b[0m \u001b[0mcalc_accuracy\u001b[0m \u001b[1;33m(\u001b[0m\u001b[0my_est\u001b[0m\u001b[1;33m,\u001b[0m \u001b[0my\u001b[0m\u001b[1;33m)\u001b[0m\u001b[1;33m:\u001b[0m\u001b[1;33m\u001b[0m\u001b[1;33m\u001b[0m\u001b[0m\n\u001b[1;32m----> 2\u001b[1;33m     \u001b[1;32mreturn\u001b[0m \u001b[1;33m(\u001b[0m\u001b[1;33m(\u001b[0m\u001b[0my\u001b[0m\u001b[1;33m>\u001b[0m\u001b[1;36m0.5\u001b[0m\u001b[1;33m)\u001b[0m\u001b[1;33m==\u001b[0m\u001b[1;33m(\u001b[0m\u001b[0my_test\u001b[0m\u001b[1;33m>\u001b[0m\u001b[1;36m0.5\u001b[0m\u001b[1;33m)\u001b[0m\u001b[1;33m)\u001b[0m\u001b[1;33m.\u001b[0m\u001b[0mmean\u001b[0m\u001b[1;33m(\u001b[0m\u001b[1;33m)\u001b[0m\u001b[1;33m\u001b[0m\u001b[1;33m\u001b[0m\u001b[0m\n\u001b[0m",
      "\u001b[1;31mAttributeError\u001b[0m: 'bool' object has no attribute 'mean'"
     ]
    }
   ],
   "source": [
    "calc_network_accuracy(X, y, u_t, V_t, W_t), calc_network_accuracy(X_test, y_test, u_t, V_t, W_t), "
   ]
  },
  {
   "cell_type": "markdown",
   "metadata": {},
   "source": [
    "## Gradient Descent"
   ]
  },
  {
   "cell_type": "code",
   "execution_count": 37,
   "metadata": {},
   "outputs": [
    {
     "data": {
      "application/vnd.jupyter.widget-view+json": {
       "model_id": "eb8154095c8246eb9fe486131e6350ce",
       "version_major": 2,
       "version_minor": 0
      },
      "text/plain": [
       "  0%|          | 0/1000 [00:00<?, ?it/s]"
      ]
     },
     "metadata": {},
     "output_type": "display_data"
    }
   ],
   "source": [
    "iterations = 1000\n",
    "learning_rate = 1e-2\n",
    "\n",
    "np.random.seed(0)\n",
    "W_t = np.random.randn(d, d) / np.sqrt(d)\n",
    "V_t = np.random.randn(d, d) / np.sqrt(d)\n",
    "u_t = np.random.randn(d, 1) / np.sqrt(d)\n",
    "err_train_gd = np.zeros(iterations+1)\n",
    "err_test_gd = np.zeros(iterations+1)\n",
    "\n",
    "err_train_gd[0] = calc_crossentropy_network_error(X, y, u_t, V_t, W_t)\n",
    "err_test_gd[0] = calc_crossentropy_network_error(X_test, y_test, u_t, V_t, W_t)\n",
    "\n",
    "for t in tqdm(range(iterations)):\n",
    "    W_t_new  = W_t - np.reshape(learning_rate * map_to_df_dW(X, u_t, V_t, W_t) * \\\n",
    "          calc_gradient_crossentropy_network_error(X, y, u_t, V_t, W_t) * \\\n",
    "          calc_gradient_softmax_network(X, u_t, V_t, W_t), [d,d,m]).mean(axis=2)\n",
    "    \n",
    "    V_t_new = V_t - np.reshape(learning_rate * map_to_df_dV(X, u_t, V_t, W_t) * \\\n",
    "          calc_gradient_crossentropy_network_error(X, y, u_t, V_t, W_t) * \\\n",
    "          calc_gradient_softmax_network(X, u_t, V_t, W_t), [d,d,m]).mean(axis=2)\n",
    "    \n",
    "    u_t_new = u_t - np.reshape((learning_rate * map_to_df_du(X, u_t, V_t, W_t) * \\\n",
    "          calc_gradient_crossentropy_network_error(X, y, u_t, V_t, W_t) * \\\n",
    "          calc_gradient_softmax_network(X, u_t, V_t, W_t)).mean(axis=1), [d,1])\n",
    "    \n",
    "    W_t = W_t_new\n",
    "    V_t = V_t_new\n",
    "    u_t = u_t_new\n",
    "    \n",
    "    err_train_gd[t+1] = calc_crossentropy_network_error(X, y, u_t, V_t, W_t)\n",
    "    err_test_gd[t+1] = calc_crossentropy_network_error(X_test, y_test, u_t, V_t, W_t)"
   ]
  },
  {
   "cell_type": "code",
   "execution_count": 38,
   "metadata": {},
   "outputs": [
    {
     "data": {
      "image/png": "[encoded data removed]",
      "text/plain": [
       "<Figure size 432x288 with 1 Axes>"
      ]
     },
     "metadata": {
      "needs_background": "light"
     },
     "output_type": "display_data"
    }
   ],
   "source": [
    "plt.plot(err_train_gd)\n",
    "plt.plot(err_test_gd)\n",
    "plt.xlabel('iterations')\n",
    "plt.ylabel('error')\n",
    "plt.legend({'train','test'})\n",
    "plt.show()"
   ]
  },
  {
   "cell_type": "markdown",
   "metadata": {},
   "source": [
    "## Check Correctness"
   ]
  },
  {
   "cell_type": "markdown",
   "metadata": {},
   "source": [
    "The correctness will be done thanks to the identity:\n",
    "$$ F(x) - F(y) = \\int_y^x f(r) dr$$"
   ]
  },
  {
   "cell_type": "code",
   "execution_count": 33,
   "metadata": {},
   "outputs": [],
   "source": [
    "np.random.seed(10)\n",
    "W_0 = np.random.randn(d, d) / np.sqrt(d)\n",
    "V_0 = np.random.randn(d, d) / np.sqrt(d)\n",
    "u_0 = np.random.randn(d, 1) / np.sqrt(d)\n",
    "xx = np.random.randn(d, 1)\n",
    "yy = np.ones((1,1))\n",
    "\n",
    "min_range = -2\n",
    "max_range = 3\n",
    "steps = 10000\n",
    "vals = np.linspace(min_range, max_range, steps)\n",
    "dx = (max_range-min_range)/steps "
   ]
  },
  {
   "cell_type": "code",
   "execution_count": 34,
   "metadata": {},
   "outputs": [
    {
     "data": {
      "text/plain": [
       "(0.5180962733539783, -0.5180614342504731)"
      ]
     },
     "execution_count": 34,
     "metadata": {},
     "output_type": "execute_result"
    }
   ],
   "source": [
    "# check W\n",
    "res = calc_crossentropy_network_error(xx, yy, u_0, V_0, max_range * W_0) - \\\n",
    "      calc_crossentropy_network_error(xx, yy, u_0, V_0, min_range * W_0)\n",
    "\n",
    "out = np.zeros((W_0.size,1))\n",
    "for val in vals:\n",
    "    out += -map_to_df_dW(xx, u_0, V_0, val * W_0) * \\\n",
    "          calc_gradient_crossentropy_network_error(xx, yy, u_0, V_0, val * W_0) * \\\n",
    "          calc_gradient_softmax_network(xx, u_0, V_0, val * W_0)\n",
    "    \n",
    "res, (dx * out * np.reshape(W_0, [d*d,1])).sum()"
   ]
  },
  {
   "cell_type": "code",
   "execution_count": 35,
   "metadata": {},
   "outputs": [
    {
     "data": {
      "text/plain": [
       "(0.4684764813532195, -0.4684505256779411)"
      ]
     },
     "execution_count": 35,
     "metadata": {},
     "output_type": "execute_result"
    }
   ],
   "source": [
    "# check V\n",
    "res = calc_crossentropy_network_error(xx, yy, u_0, max_range * V_0, W_0) - \\\n",
    "      calc_crossentropy_network_error(xx, yy, u_0, min_range * V_0, W_0)\n",
    "\n",
    "out = np.zeros((V_0.size,1))\n",
    "for val in vals:\n",
    "    out += -map_to_df_dV(xx, u_0, val * V_0, W_0) * \\\n",
    "          calc_gradient_crossentropy_network_error(xx, yy, u_0, val * V_0, W_0) * \\\n",
    "          calc_gradient_softmax_network(xx, u_0, val * V_0, W_0)\n",
    "    \n",
    "res, (dx * out * np.reshape(V_0, [d*d,1])).sum()"
   ]
  },
  {
   "cell_type": "code",
   "execution_count": 36,
   "metadata": {},
   "outputs": [
    {
     "data": {
      "text/plain": [
       "(0.034264000811032425, -0.03426400080876915)"
      ]
     },
     "execution_count": 36,
     "metadata": {},
     "output_type": "execute_result"
    }
   ],
   "source": [
    "# check u\n",
    "res = calc_crossentropy_network_error(xx, yy, max_range * u_0, V_0, W_0) - \\\n",
    "      calc_crossentropy_network_error(xx, yy, min_range * u_0, V_0, W_0)\n",
    "\n",
    "out = np.zeros((u_0.size,1))\n",
    "for val in vals:\n",
    "    out += -map_to_df_du(xx, val * u_0, V_0, W_0) * \\\n",
    "          calc_gradient_crossentropy_network_error(xx, yy, val * u_0, V_0, W_0) * \\\n",
    "          calc_gradient_softmax_network(xx, val * u_0, V_0, W_0)\n",
    "    \n",
    "res, (dx * out * u_0).sum()"
   ]
  },
  {
   "cell_type": "code",
   "execution_count": null,
   "metadata": {},
   "outputs": [],
   "source": []
  }
 ],
 "metadata": {
  "kernelspec": {
   "display_name": "Python 3",
   "language": "python",
   "name": "python3"
  },
  "language_info": {
   "codemirror_mode": {
    "name": "ipython",
    "version": 3
   },
   "file_extension": ".py",
   "mimetype": "text/x-python",
   "name": "python",
   "nbconvert_exporter": "python",
   "pygments_lexer": "ipython3",
   "version": "3.8.6"
  }
 },
 "nbformat": 4,
 "nbformat_minor": 4
}
