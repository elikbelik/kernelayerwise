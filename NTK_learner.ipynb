{
 "cells": [
  {
   "cell_type": "markdown",
   "metadata": {},
   "source": [
    "# Learning Using NTK"
   ]
  },
  {
   "cell_type": "markdown",
   "metadata": {},
   "source": [
    "## Init"
   ]
  },
  {
   "cell_type": "code",
   "execution_count": 2,
   "metadata": {},
   "outputs": [],
   "source": [
    "#Autocomplete\n",
    "%config Completer.use_jedi = False"
   ]
  },
  {
   "cell_type": "code",
   "execution_count": 3,
   "metadata": {},
   "outputs": [
    {
     "name": "stdout",
     "output_type": "stream",
     "text": [
      "Wall time: 0 ns\n"
     ]
    }
   ],
   "source": [
    "%matplotlib inline\n",
    "%time\n",
    "\n",
    "import numpy as np\n",
    "import matplotlib.pyplot as plt\n",
    "import os, time, glob\n",
    "from tqdm.notebook import tqdm\n",
    "from sklearn import svm"
   ]
  },
  {
   "cell_type": "code",
   "execution_count": 4,
   "metadata": {},
   "outputs": [],
   "source": [
    "os.environ['KERAS_BACKEND'] = \"tensorflow\"\n",
    "\n",
    "import keras\n",
    "from keras import backend as K\n",
    "import tensorflow as tf"
   ]
  },
  {
   "cell_type": "markdown",
   "metadata": {},
   "source": [
    "## Load Data"
   ]
  },
  {
   "cell_type": "code",
   "execution_count": 5,
   "metadata": {},
   "outputs": [],
   "source": [
    "def create_cifar():\n",
    "    cifar = tf.keras.datasets.cifar10\n",
    "    (train_images, train_labels), (test_images, test_labels) = cifar.load_data()\n",
    "    \n",
    "    train_images = train_images.astype(\"float32\") / 255.0\n",
    "    test_images = test_images.astype(\"float32\") / 255.0\n",
    "    \n",
    "    train_labels = np.squeeze(train_labels)\n",
    "    test_labels = np.squeeze(test_labels)\n",
    "\n",
    "    return train_images, train_labels, test_images, test_labels"
   ]
  },
  {
   "cell_type": "code",
   "execution_count": 6,
   "metadata": {},
   "outputs": [
    {
     "data": {
      "text/plain": [
       "((50000, 32, 32, 3), (10000, 32, 32, 3))"
      ]
     },
     "execution_count": 6,
     "metadata": {},
     "output_type": "execute_result"
    }
   ],
   "source": [
    "train_x,train_y,test_x,test_y = create_cifar()\n",
    "train_x.shape, test_x.shape"
   ]
  },
  {
   "cell_type": "markdown",
   "metadata": {},
   "source": [
    "## Run CNTK"
   ]
  },
  {
   "cell_type": "code",
   "execution_count": null,
   "metadata": {},
   "outputs": [],
   "source": [
    "def trans(s, t, l, r, il, ir):\n",
    "    \"\"\"\n",
    "    s,t are 4D matrices\n",
    "    l,r,il,ir are 2D matrices\n",
    "    \"\"\"\n",
    "    \n",
    "    "
   ]
  },
  {
   "cell_type": "code",
   "execution_count": null,
   "metadata": {},
   "outputs": [],
   "source": [
    "void trans(float s[32][32][32][32], float t[32][32][32][32], const float l[32][32], const float r[32][32], const float il[32][32], const float ir[32][32])\n",
    "{\n",
    "\tint x1 = blockIdx.x;\n",
    "\tint y1 = blockIdx.y;\n",
    "\tint x2 = threadIdx.x + ((blockIdx.z >> 2) << 3);\n",
    "\tint y2 = threadIdx.y + ((blockIdx.z & 3) << 3);\n",
    "\tfloat S = s[x1][y1][x2][y2], T = t[x1][y1][x2][y2], L = l[x1][y1], R = r[x2][y2], iL = il[x1][y1], iR = ir[x2][y2];\n",
    "\tS = S * iL * iR;\n",
    "\tfloat BS = (S * (3.141592654f - acosf(max(min(S, 1.0f), -1.0f))) + sqrtf(1.0f - min(S * S, 1.0f))) * L * R / 28.274333882308138f;\n",
    "\tS = (3.141592654f - acosf(max(min(S, 1.0f), -1.0f))) / 28.274333882308138;\n",
    "\tt[x1][y1][x2][y2] = T * S + BS;\n",
    "\ts[x1][y1][x2][y2] = BS;"
   ]
  },
  {
   "cell_type": "code",
   "execution_count": null,
   "metadata": {},
   "outputs": [],
   "source": [
    "def conv3(s, t):\n",
    "    \"\"\"\n",
    "    s,t are 4D matrices\n",
    "    \"\"\"\n",
    "    blocks=63\n",
    "    threads=32\n",
    "    for i in range(blocks):\n",
    "        for j in range(threads):\n",
    "            x1 = i + j - 31\n",
    "            y1 = "
   ]
  },
  {
   "cell_type": "code",
   "execution_count": null,
   "metadata": {},
   "outputs": [],
   "source": [
    "void conv3(const float s[32][32][32][32], float t[32][32][32][32])\n",
    "{\n",
    "    int x1 = threadIdx.x + blockIdx.x - 31;\n",
    "    int y1 = threadIdx.y + blockIdx.y - 31;\n",
    "    int x2 = threadIdx.x;\n",
    "    int y2 = threadIdx.y;\n",
    "\n",
    "    __shared__ float d[32 + 2][32 + 2];\n",
    "    if (x2 == 0){\n",
    "        d[0][y2 + 1] = d[33][y2 + 1] = 0;\n",
    "        if (x2 == 0 && y2 == 0)\n",
    "            d[0][0] = d[0][33] = d[33][0] = d[33][33] = 0; \n",
    "    }\n",
    "    if (y2 == 0){\n",
    "        d[x2 + 1][0] = d[x2 + 1][33] = 0;\n",
    "    }\n",
    "\n",
    "    if (x1 < 0 || x1 > 31 || y1 < 0 || y1 > 31){\n",
    "        d[x2 + 1][y2 + 1] = 0;\n",
    "        return;\n",
    "    }\n",
    "    else\n",
    "        d[x2 + 1][y2 + 1] = s[x1][y1][x2][y2];\n",
    "    __syncthreads();\n",
    "\n",
    "    t[x1][y1][x2][y2] = d[x2][y2] + d[x2][y2 + 1] + d[x2][y2 + 2]\n",
    "                      + d[x2 + 1][y2] + d[x2 + 1][y2 + 1] + d[x2 + 1][y2 + 2]\n",
    "                      + d[x2 + 2][y2] + d[x2 + 2][y2 + 1] + d[x2 + 2][y2 + 2];"
   ]
  },
  {
   "cell_type": "markdown",
   "metadata": {},
   "source": [
    "Calculate diagonal entries of $\\Sigma^{(h)}(x, x)$ and their reciprocals. See Section 4.3 in our paper. "
   ]
  },
  {
   "cell_type": "code",
   "execution_count": 8,
   "metadata": {},
   "outputs": [],
   "source": [
    "def xx(x):\n",
    "    RL = [1.0, ]\n",
    "    iRL = [1.0, ]\n",
    "\n",
    "    S = np.matmul(x.T, x).reshape(32, 32, 32, 32)\n",
    "    conv3(conv_blocks, conv_threads, (S, S))\n",
    "    T = np.zeros((32, 32, 32, 32), dtype = np.float32)\n",
    "    if not fix:\n",
    "        T += S\n",
    "\n",
    "    for i in range(1, d - 1):\n",
    "        L = np.sqrt(np.diag(S.reshape(1024, 1024)).reshape(32, 32))\n",
    "        iL = 1.0 / L\n",
    "        RL.append(L)\n",
    "        iRL.append(iL)\n",
    "        trans(trans_blocks, trans_threads, (S, T, L, L, iL, iL))\n",
    "        conv3(conv_blocks, conv_threads, (S, S))\n",
    "        conv3(conv_blocks, conv_threads, (T, T))\n",
    "\n",
    "    L = np.sqrt(np.diag(S.reshape(1024, 1024)).reshape(32, 32))\n",
    "    iL = 1.0 / L\n",
    "    RL.append(L)\n",
    "    iRL.append(iL)\n",
    "    trans(trans_blocks, trans_threads, (S, T, L, L, iL, iL))\n",
    "\n",
    "    if fix:\n",
    "        T -= S\n",
    "    return RL, iRL"
   ]
  },
  {
   "cell_type": "markdown",
   "metadata": {},
   "source": [
    "Caclulate the kernel value of x and z.\n",
    "\n",
    "Lx and Lz are diagonal entries of $\\Sigma^{(h)}(x, x)$ and $\\Sigma^{(h)}(z, z)$. \n",
    "\n",
    "iLx and iLz are reciprocals of diagonal entries of $\\Sigma^{(h)}(x, x)$ and $\\Sigma^{(h)}(z, z)$. "
   ]
  },
  {
   "cell_type": "code",
   "execution_count": 10,
   "metadata": {},
   "outputs": [],
   "source": [
    "def xz(x, z, Lx, Lz, iLx, iLz):\n",
    "    S = np.matmul(x.T, z).reshape(32, 32, 32, 32)\n",
    "    conv3(conv_blocks, conv_threads, (S, S))\n",
    "    T = np.zeros((32, 32, 32, 32), dtype = np.float32)\n",
    "    if not fix:\n",
    "        T += S\n",
    "\n",
    "    for i in range(1, d - 1):\n",
    "        trans(trans_blocks, trans_threads, (S, T, Lx[i], Lz[i], iLx[i], iLz[i]))\n",
    "        conv3(conv_blocks, conv_threads, (S, S))\n",
    "        conv3(conv_blocks, conv_threads, (T, T))\n",
    "\n",
    "    trans(trans_blocks, trans_threads, (S, T, Lx[-1], Lz[-1], iLx[-1], iLz[-1]))\n",
    "\n",
    "    if fix:\n",
    "        T -= S\n",
    "    return np.mean(T) if gap else np.trace(T.reshape(1024, 1024))"
   ]
  },
  {
   "cell_type": "code",
   "execution_count": 15,
   "metadata": {},
   "outputs": [],
   "source": [
    "#Load CIFAR-10.\n",
    "X_train, y_train, X_test, y_test = create_cifar()\n",
    "X = np.concatenate((X_train, X_test), axis = 0)\n",
    "N = X.shape[0]\n",
    "N_train = X_train.shape[0]\n",
    "N_test = X_test.shape[0]\n",
    "X = np.asarray(X).reshape(-1, 3, 1024)"
   ]
  },
  {
   "cell_type": "code",
   "execution_count": 20,
   "metadata": {},
   "outputs": [
    {
     "data": {
      "text/plain": [
       "(3, 1024)"
      ]
     },
     "execution_count": 20,
     "metadata": {},
     "output_type": "execute_result"
    }
   ],
   "source": [
    "X[0].shape"
   ]
  },
  {
   "cell_type": "code",
   "execution_count": null,
   "metadata": {},
   "outputs": [],
   "source": [
    "#Calculate diagonal entries.\n",
    "L = []\n",
    "iL = []\n",
    "for i in range(N):\n",
    "    Lx, iLx = xx(X[i])\n",
    "    L.append(Lx)\n",
    "    iL.append(iLx)"
   ]
  },
  {
   "cell_type": "code",
   "execution_count": null,
   "metadata": {},
   "outputs": [],
   "source": [
    "#####Calculate kernel values.\n",
    "H = np.zeros((N, N), dtype = np.float32)\n",
    "for i in range(N):\n",
    "    for j in range(N):\n",
    "        H[i][j] = xz(X[i], X[j], L[i], L[j], iL[i], iL[j])"
   ]
  },
  {
   "cell_type": "code",
   "execution_count": null,
   "metadata": {},
   "outputs": [],
   "source": [
    "#Solve kernel regression\n",
    "Y_train = np.ones((N_train, 10)) * -0.1\n",
    "for i in range(N_train):\n",
    "    Y_train[i][y_train[i]] = 0.9\n",
    "u = H[N_train:, :N_train].dot(scipy.linalg.solve(H[:N_train, :N_train], Y_train))\n",
    "print \"test accuracy:\", 1.0 * np.sum(np.argmax(u, axis = 1) == y_test) / N_test"
   ]
  }
 ],
 "metadata": {
  "kernelspec": {
   "display_name": "Python 3",
   "language": "python",
   "name": "python3"
  },
  "language_info": {
   "codemirror_mode": {
    "name": "ipython",
    "version": 3
   },
   "file_extension": ".py",
   "mimetype": "text/x-python",
   "name": "python",
   "nbconvert_exporter": "python",
   "pygments_lexer": "ipython3",
   "version": "3.8.6"
  }
 },
 "nbformat": 4,
 "nbformat_minor": 4
}
