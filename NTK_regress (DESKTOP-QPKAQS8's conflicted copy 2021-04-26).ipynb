{
 "cells": [
  {
   "cell_type": "markdown",
   "metadata": {},
   "source": [
    "# NTK"
   ]
  },
  {
   "cell_type": "code",
   "execution_count": 1,
   "metadata": {},
   "outputs": [],
   "source": [
    "#Autocomplete\n",
    "%config Completer.use_jedi = False"
   ]
  },
  {
   "cell_type": "code",
   "execution_count": 2,
   "metadata": {},
   "outputs": [
    {
     "name": "stdout",
     "output_type": "stream",
     "text": [
      "Wall time: 0 ns\n"
     ]
    }
   ],
   "source": [
    "%matplotlib inline\n",
    "%time\n",
    "\n",
    "import numpy as np\n",
    "import matplotlib.pyplot as plt\n",
    "import os, time, glob\n",
    "from tqdm.notebook import tqdm"
   ]
  },
  {
   "cell_type": "markdown",
   "metadata": {},
   "source": [
    "## Two Layers Network"
   ]
  },
  {
   "cell_type": "markdown",
   "metadata": {},
   "source": [
    "### Theory"
   ]
  },
  {
   "cell_type": "markdown",
   "metadata": {},
   "source": [
    "We will assume the following network:\n",
    "$$f(x) = u^T \\sigma(Wx)$$\n",
    "where the hidden layer has infinite depth, and and using the square loss function."
   ]
  },
  {
   "cell_type": "markdown",
   "metadata": {},
   "source": [
    "In this case, we get the following kernel:\n",
    "$$ K(x,x') = \\mathbb{E}_{u,W} \\left[ \\sigma(Wx)\\sigma(Wx') + \\|u\\|^2 \\dot\\sigma(Wx)\\dot\\sigma(Wx')\\langle x,x' \\rangle \\right]$$"
   ]
  },
  {
   "cell_type": "markdown",
   "metadata": {},
   "source": [
    "We assume $x\\in\\sqrt{d}\\mathbb{S}^{d-1}$, $W\\sim N(0,\\|W\\|^{-2}I)$ and $u\\sim N(0,\\|u\\|^{-2}I)$."
   ]
  },
  {
   "cell_type": "markdown",
   "metadata": {},
   "source": [
    "Note:\n",
    "If $\\Sigma_\\rho = \\begin{bmatrix}1 & \\rho \\\\ \\rho & 1\\end{bmatrix}$,\n",
    "then:\n",
    "$$ \\mathbb{E}_{(u,v)\\sim N(0,\\Sigma_\\rho)}[\\sigma(u)\\sigma(v)] = \\frac{\\sqrt{1-\\rho^2} + (\\pi-cos^{-1}(\\rho))\\rho}{2\\pi} $$\n",
    "$$ \\mathbb{E}_{(u,v)\\sim N(0,\\Sigma_\\rho)}[\\dot\\sigma(u)\\dot\\sigma(v)] = \\frac{\\pi-cos^{-1}(\\rho)}{2\\pi} $$"
   ]
  },
  {
   "cell_type": "markdown",
   "metadata": {},
   "source": [
    "In our case, $\\rho = \\frac{\\langle x,x' \\rangle}{d}$, but we need also to normalize everything."
   ]
  },
  {
   "cell_type": "markdown",
   "metadata": {},
   "source": [
    "So,\n",
    "$$\\mathbb{E}_{u,W} [\\sigma(Wx)\\sigma(Wx')] = \\frac{1}{d} \\mathbb{E}_{(u,v)\\sim N(0,\\Sigma_\\rho)}[\\sigma(u)\\sigma(v)]\n",
    "= \\frac{\\sqrt{d^2-\\langle x,x' \\rangle^2} + \\left(\\pi-cos^{-1}\\left(\\frac{\\langle x,x' \\rangle}{d}\\right)\\right)\\langle x,x' \\rangle}{2\\pi}\n",
    "$$\n",
    "and\n",
    "$$\\mathbb{E}_{u,W} [\\dot\\sigma(Wx)\\dot\\sigma(Wx')] = \\mathbb{E}_{(u,v)\\sim N(0,\\Sigma_\\rho)}[\\dot\\sigma(u)\\dot\\sigma(v)]\n",
    "= \\frac{\\pi-cos^{-1}\\left(\\frac{\\langle x,x' \\rangle}{d}\\right)}{2\\pi}\n",
    "$$"
   ]
  },
  {
   "cell_type": "markdown",
   "metadata": {},
   "source": [
    "We are assuming square loss function for simplicity, therefore our step size is:\n",
    "$$ f_t(X) = f_{t-1}(X) - \\lambda H (f_{t-1}(X)-y)$$\n",
    "where $H_{ij} = K(x_i,x_j)$,\n",
    "and\n",
    "$$ f_0(x) = \\mathbb{E}_{u,W} [u^T\\sigma(Wx)]\n",
    "= \\mathbb{E}_{W} [\\mathbb{E}[u^T]\\sigma(Wx)]\n",
    "= 0.$$"
   ]
  },
  {
   "cell_type": "markdown",
   "metadata": {},
   "source": [
    "### Experiments"
   ]
  },
  {
   "cell_type": "code",
   "execution_count": 126,
   "metadata": {},
   "outputs": [],
   "source": [
    "d = 5 # input dim\n",
    "m = 100 # number of samples"
   ]
  },
  {
   "cell_type": "code",
   "execution_count": 127,
   "metadata": {},
   "outputs": [],
   "source": [
    "X = np.random.randn(d,m)\n",
    "X = X / np.sqrt((X**2).sum(axis=0) / d) # normalized\n",
    "X_test = np.random.randn(d,1000)\n",
    "X_test = X_test / np.sqrt((X_test**2).sum(axis=0) / d)"
   ]
  },
  {
   "cell_type": "code",
   "execution_count": 128,
   "metadata": {},
   "outputs": [],
   "source": [
    "# ground truth\n",
    "h = 50 # hidden neurons\n",
    "u_gt = np.random.randn(h)\n",
    "W_gt = np.random.randn(h,d)"
   ]
  },
  {
   "cell_type": "code",
   "execution_count": 129,
   "metadata": {},
   "outputs": [],
   "source": [
    "y = u_gt.T @ np.maximum(W_gt @ X, 0)\n",
    "y_test = u_gt.T @ np.maximum(W_gt @ X_test, 0)"
   ]
  },
  {
   "cell_type": "code",
   "execution_count": 130,
   "metadata": {},
   "outputs": [],
   "source": [
    "def expectation_relu (innerp, d):\n",
    "    \"\"\"\n",
    "    Calcs E[sigma(Wx1)sigma(Wx2)]\n",
    "    \"\"\"\n",
    "    ang = np.maximum(np.minimum(innerp/d, 1), -1)\n",
    "    res = np.sqrt(d**-innerp**2) + (np.pi - np.arccos(ang))*innerp\n",
    "    return res / 2 / np.pi"
   ]
  },
  {
   "cell_type": "code",
   "execution_count": 131,
   "metadata": {},
   "outputs": [],
   "source": [
    "def expectation_drelu (innerp, d):\n",
    "    \"\"\"\n",
    "    Calcs E[dot(sigma(Wx1))dot(sigma(Wx2))]\n",
    "    \"\"\"\n",
    "    ang = np.maximum(np.minimum(innerp/d, 1), -1)\n",
    "    res = np.pi - np.arccos(ang)\n",
    "    return res / 2 / np.pi"
   ]
  },
  {
   "cell_type": "code",
   "execution_count": 132,
   "metadata": {},
   "outputs": [],
   "source": [
    "def ker(x1, x2):\n",
    "    d = x1.size\n",
    "    innerp = x1.T @ x2\n",
    "    return expectation_relu(innerp,d) + expectation_drelu(innerp,d)*innerp"
   ]
  },
  {
   "cell_type": "code",
   "execution_count": 138,
   "metadata": {},
   "outputs": [],
   "source": [
    "def calc_error (f, X, y):\n",
    "    return ((f(X) - y)**2).mean()"
   ]
  },
  {
   "cell_type": "code",
   "execution_count": 134,
   "metadata": {},
   "outputs": [],
   "source": [
    "H = np.zeros((m,m))\n",
    "for i in range(m):\n",
    "    x1 = X[:,i]\n",
    "    for j in range(m):\n",
    "        x2 = X[:,j]\n",
    "        H[i,j] = ker(x1, x2)"
   ]
  },
  {
   "cell_type": "code",
   "execution_count": 135,
   "metadata": {},
   "outputs": [],
   "source": [
    "# Gradient Descent\n",
    "learning_rate = 1e-2\n",
    "gd_steps = 50\n",
    "f0 = lambda A: np.zeros(A.shape[1])\n",
    "ker_X = lambda x: np.array([ker(x, X[:,i]) for i in range(m)])\n",
    "f0_X = f0(X)"
   ]
  },
  {
   "cell_type": "code",
   "execution_count": 139,
   "metadata": {},
   "outputs": [
    {
     "data": {
      "application/vnd.jupyter.widget-view+json": {
       "model_id": "ea2f3e8a50484f51a83f41336318fa65",
       "version_major": 2,
       "version_minor": 0
      },
      "text/plain": [
       "HBox(children=(FloatProgress(value=0.0, max=50.0), HTML(value='')))"
      ]
     },
     "metadata": {},
     "output_type": "display_data"
    },
    {
     "name": "stdout",
     "output_type": "stream",
     "text": [
      "\n",
      "Wall time: 1min 36s\n"
     ]
    }
   ],
   "source": [
    "%%time\n",
    "\n",
    "vt = np.zeros(m)\n",
    "ft_X = f0_X\n",
    "err_train = np.zeros(gd_steps+1)\n",
    "err_test = np.zeros(gd_steps+1)\n",
    "err_train[0] = calc_error(f0, X, y)\n",
    "err_test[0] = calc_error(f0, X_test, y_test)\n",
    "\n",
    "for t in tqdm(range(gd_steps)):\n",
    "    vt += ft_X - y\n",
    "    ft_X = f0_X - learning_rate * (H @ vt)\n",
    "    \n",
    "    ft = lambda A: np.array(f0(A) - [learning_rate * (ker_X(A[:,i]).T @ vt) for i in range(A.shape[1])])\n",
    "    err_train[t+1] = calc_error(ft, X, y)\n",
    "    err_test[t+1] = calc_error(ft, X_test, y_test)"
   ]
  },
  {
   "cell_type": "code",
   "execution_count": 140,
   "metadata": {},
   "outputs": [
    {
     "data": {
      "image/png": "[encoded data removed]",
      "text/plain": [
       "<Figure size 432x288 with 1 Axes>"
      ]
     },
     "metadata": {
      "needs_background": "light"
     },
     "output_type": "display_data"
    }
   ],
   "source": [
    "plt.plot(err_train)\n",
    "plt.plot(err_test)\n",
    "plt.xlabel('epoch')\n",
    "plt.ylabel('error')\n",
    "plt.legend({'train','test'})\n",
    "plt.show()"
   ]
  },
  {
   "cell_type": "markdown",
   "metadata": {},
   "source": [
    "## Conv Layer NTK"
   ]
  },
  {
   "cell_type": "markdown",
   "metadata": {},
   "source": [
    "### Theory"
   ]
  },
  {
   "cell_type": "markdown",
   "metadata": {},
   "source": [
    "We will assume the following network:\n",
    "$$f(x) = u^T \\sigma(w * x)$$\n",
    "where $w$ is a convolution kernel with infinte number of channles, $[*]$ is the convolution operator, and sigma is also flatten."
   ]
  },
  {
   "cell_type": "markdown",
   "metadata": {},
   "source": [
    "In this case, we get the following kernel:\n",
    "$$ K(x,x') = \\mathbb{E}_{u,w} \\left[ \\sigma(w*x)\\sigma(w*x') + \\|u\\|^2 \\dot\\sigma(w*x)\\dot\\sigma(w*x')q \\cdot sum(x)sum(x') \\rangle \\right]$$\n",
    "where $q$ is the size of the kernel (e.g. $q=9$ for $3\\times 3$ kernel)."
   ]
  },
  {
   "cell_type": "code",
   "execution_count": null,
   "metadata": {},
   "outputs": [],
   "source": []
  }
 ],
 "metadata": {
  "kernelspec": {
   "display_name": "Python 3",
   "language": "python",
   "name": "python3"
  },
  "language_info": {
   "codemirror_mode": {
    "name": "ipython",
    "version": 3
   },
   "file_extension": ".py",
   "mimetype": "text/x-python",
   "name": "python",
   "nbconvert_exporter": "python",
   "pygments_lexer": "ipython3",
   "version": "3.6.8"
  }
 },
 "nbformat": 4,
 "nbformat_minor": 4
}
